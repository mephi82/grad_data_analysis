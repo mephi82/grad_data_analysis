{
  "nbformat": 4,
  "nbformat_minor": 0,
  "metadata": {
    "colab": {
      "name": "recurrentnet.ipynb",
      "provenance": [],
      "collapsed_sections": [],
      "authorship_tag": "ABX9TyNSbVmSd15SGzIrzT8ioyAa",
      "include_colab_link": true
    },
    "kernelspec": {
      "name": "python3",
      "display_name": "Python 3"
    },
    "language_info": {
      "name": "python"
    },
    "accelerator": "GPU"
  },
  "cells": [
    {
      "cell_type": "markdown",
      "metadata": {
        "id": "view-in-github",
        "colab_type": "text"
      },
      "source": [
        "<a href=\"https://colab.research.google.com/github/mephi82/grad_data_analysis/blob/main/recurrentnet.ipynb\" target=\"_parent\"><img src=\"https://colab.research.google.com/assets/colab-badge.svg\" alt=\"Open In Colab\"/></a>"
      ]
    },
    {
      "cell_type": "markdown",
      "metadata": {
        "id": "uL5IreR0Ff91"
      },
      "source": [
        "자동 음악 생성\n",
        "https://www.analyticsvidhya.com/blog/2020/01/how-to-perform-automatic-music-generation/"
      ]
    },
    {
      "cell_type": "code",
      "metadata": {
        "id": "WAPg5wGzDDvO"
      },
      "source": [
        "from tensorflow.keras import datasets, layers, utils, models, optimizers\n",
        "import matplotlib.pyplot as plt\n",
        "import numpy as np"
      ],
      "execution_count": null,
      "outputs": []
    },
    {
      "cell_type": "markdown",
      "metadata": {
        "id": "6IIxoeecUedJ"
      },
      "source": [
        "문자 생성 예시 : https://machinelearningmastery.com/text-generation-lstm-recurrent-neural-networks-python-keras/"
      ]
    },
    {
      "cell_type": "code",
      "metadata": {
        "id": "Et3pcP25IsFF"
      },
      "source": [
        "filename = \"wonderland.txt\"\n",
        "raw_text = open(filename, 'r', encoding='utf-8').read()\n",
        "raw_text = raw_text.lower()[1:]"
      ],
      "execution_count": null,
      "outputs": []
    },
    {
      "cell_type": "markdown",
      "metadata": {
        "id": "9kT-zZ02VWAy"
      },
      "source": [
        "create mapping of unique chars to integers"
      ]
    },
    {
      "cell_type": "code",
      "metadata": {
        "id": "AFpgin0wIunH",
        "colab": {
          "base_uri": "https://localhost:8080/"
        },
        "outputId": "71a64484-f6fb-4afa-f893-a39f88ffc774"
      },
      "source": [
        "chars = sorted(list(set(raw_text[1:])))\n",
        "char_to_int = dict((c, i) for i, c in enumerate(chars))\n",
        "print(chars)"
      ],
      "execution_count": null,
      "outputs": [
        {
          "output_type": "stream",
          "name": "stdout",
          "text": [
            "['\\n', ' ', '!', '\"', '#', '$', '%', \"'\", '(', ')', '*', ',', '-', '.', '/', '0', '1', '2', '3', '4', '5', '6', '7', '8', '9', ':', ';', '?', '@', '[', ']', '_', 'a', 'b', 'c', 'd', 'e', 'f', 'g', 'h', 'i', 'j', 'k', 'l', 'm', 'n', 'o', 'p', 'q', 'r', 's', 't', 'u', 'v', 'w', 'x', 'y', 'z']\n"
          ]
        }
      ]
    },
    {
      "cell_type": "code",
      "metadata": {
        "colab": {
          "base_uri": "https://localhost:8080/"
        },
        "id": "jnZ2WOCnU9M6",
        "outputId": "d1ddeb1a-3d95-4120-9bbe-acb71ffc43b3"
      },
      "source": [
        "n_chars = len(raw_text)\n",
        "n_vocab = len(chars)\n",
        "print(\"Total Characters: \", n_chars)\n",
        "print(\"Total Vocab: \", n_vocab)"
      ],
      "execution_count": null,
      "outputs": [
        {
          "output_type": "stream",
          "name": "stdout",
          "text": [
            "Total Characters:  163780\n",
            "Total Vocab:  58\n"
          ]
        }
      ]
    },
    {
      "cell_type": "markdown",
      "metadata": {
        "id": "j5LX2WWwVTW0"
      },
      "source": [
        "prepare the dataset of input to output pairs encoded as integers"
      ]
    },
    {
      "cell_type": "code",
      "metadata": {
        "colab": {
          "base_uri": "https://localhost:8080/"
        },
        "id": "YFE8cAYUU-7S",
        "outputId": "d7976116-2a36-4cd7-99eb-aca416b56661"
      },
      "source": [
        "seq_length = 20\n",
        "dataX = []\n",
        "dataY = []\n",
        "for i in range(0, n_chars - seq_length, 1):\n",
        "\tseq_in = raw_text[i:i + seq_length]\n",
        "\tseq_out = raw_text[i + seq_length]\n",
        "\tdataX.append([char_to_int[char] for char in seq_in])\n",
        "\tdataY.append(char_to_int[seq_out])\n",
        "n_patterns = len(dataX)\n",
        "print(\"Total Patterns: \", n_patterns)"
      ],
      "execution_count": null,
      "outputs": [
        {
          "output_type": "stream",
          "name": "stdout",
          "text": [
            "Total Patterns:  163760\n"
          ]
        }
      ]
    },
    {
      "cell_type": "code",
      "metadata": {
        "id": "R7X8h7frVdqe",
        "colab": {
          "base_uri": "https://localhost:8080/"
        },
        "outputId": "4c715f15-78a6-46ff-a979-6f946ac21871"
      },
      "source": [
        "X = utils.to_categorical(dataX)\n",
        "y = np.reshape(dataY, (n_patterns, ))\n",
        "(X.shape, y.shape)"
      ],
      "execution_count": null,
      "outputs": [
        {
          "output_type": "execute_result",
          "data": {
            "text/plain": [
              "((163760, 20, 58), (163760,))"
            ]
          },
          "metadata": {},
          "execution_count": 6
        }
      ]
    },
    {
      "cell_type": "markdown",
      "metadata": {
        "id": "wyj3Pa22XOg8"
      },
      "source": [
        "Define RNN models"
      ]
    },
    {
      "cell_type": "code",
      "metadata": {
        "colab": {
          "base_uri": "https://localhost:8080/"
        },
        "id": "iQPA2dM5zgjE",
        "outputId": "70637152-a25d-4925-c0cc-210a2462900f"
      },
      "source": [
        "def simplernn(seq_length, n_vocab):\n",
        "  model = models.Sequential()\n",
        "  model.add(layers.SimpleRNN(128, return_sequences=False, unroll= True, input_shape=(seq_length, n_vocab)))\n",
        "  model.add(layers.Dense(n_vocab, activation='softmax'))           \n",
        "  return(model)\n",
        "\n",
        "def lstm(seq_length, n_vocab):\n",
        "  model = models.Sequential()           \n",
        "  model.add(layers.LSTM(256, input_shape=(X.shape[1], X.shape[2])))\n",
        "  model.add(layers.Dropout(0.2))\n",
        "  model.add(layers.Dense(n_vocab, activation='softmax'))\n",
        "  return(model)  \n",
        "\n",
        "model = lstm(seq_length, n_vocab)\n",
        "model.summary()\n"
      ],
      "execution_count": null,
      "outputs": [
        {
          "output_type": "stream",
          "name": "stdout",
          "text": [
            "Model: \"sequential_1\"\n",
            "_________________________________________________________________\n",
            "Layer (type)                 Output Shape              Param #   \n",
            "=================================================================\n",
            "lstm (LSTM)                  (None, 256)               322560    \n",
            "_________________________________________________________________\n",
            "dropout (Dropout)            (None, 256)               0         \n",
            "_________________________________________________________________\n",
            "dense_1 (Dense)              (None, 58)                14906     \n",
            "=================================================================\n",
            "Total params: 337,466\n",
            "Trainable params: 337,466\n",
            "Non-trainable params: 0\n",
            "_________________________________________________________________\n"
          ]
        }
      ]
    },
    {
      "cell_type": "code",
      "metadata": {
        "colab": {
          "base_uri": "https://localhost:8080/"
        },
        "id": "LCHkHjs9iHTq",
        "outputId": "6cb022d8-af1d-4f42-b5d0-d349fb3fa4d1"
      },
      "source": [
        "model.compile(optimizer = 'adam', loss='sparse_categorical_crossentropy',\n",
        "                metrics=['accuracy'])\n",
        "hist = model.fit(X, y, epochs=10, batch_size=128)"
      ],
      "execution_count": null,
      "outputs": [
        {
          "output_type": "stream",
          "name": "stdout",
          "text": [
            "Epoch 1/10\n",
            "1280/1280 [==============================] - 19s 13ms/step - loss: 0.8940 - accuracy: 0.7202\n",
            "Epoch 2/10\n",
            "1280/1280 [==============================] - 16s 12ms/step - loss: 0.8638 - accuracy: 0.7283\n",
            "Epoch 3/10\n",
            "1280/1280 [==============================] - 16s 12ms/step - loss: 0.8462 - accuracy: 0.7325\n",
            "Epoch 4/10\n",
            "1280/1280 [==============================] - 16s 12ms/step - loss: 0.8239 - accuracy: 0.7391\n",
            "Epoch 5/10\n",
            "1280/1280 [==============================] - 15s 12ms/step - loss: 0.8059 - accuracy: 0.7442\n",
            "Epoch 6/10\n",
            "1280/1280 [==============================] - 15s 12ms/step - loss: 0.7914 - accuracy: 0.7484\n",
            "Epoch 7/10\n",
            "1280/1280 [==============================] - 15s 12ms/step - loss: 0.7730 - accuracy: 0.7532\n",
            "Epoch 8/10\n",
            "1280/1280 [==============================] - 15s 12ms/step - loss: 0.7579 - accuracy: 0.7578\n",
            "Epoch 9/10\n",
            "1280/1280 [==============================] - 15s 12ms/step - loss: 0.7476 - accuracy: 0.7609\n",
            "Epoch 10/10\n",
            "1280/1280 [==============================] - 14s 11ms/step - loss: 0.7340 - accuracy: 0.7641\n"
          ]
        }
      ]
    },
    {
      "cell_type": "code",
      "metadata": {
        "id": "G29cU8HmWoM8",
        "colab": {
          "base_uri": "https://localhost:8080/",
          "height": 143
        },
        "outputId": "9c4ebf55-574d-404b-da17-26db894b1c57"
      },
      "source": [
        "int_to_char = dict((i, c) for i, c in enumerate(chars))\n",
        "# pick a random seed\n",
        "start = np.random.randint(0, len(dataX)-1)\n",
        "pattern = dataX[start]\n",
        "print(\"Seed:\")\n",
        "print(\"\\\"\", ''.join([int_to_char[value] for value in pattern]), \"\\\"\")\n",
        "# generate characters\n",
        "def generate_text(model, pattern):\n",
        "    text = ''\n",
        "    for i in range(200):\n",
        "        x = utils.to_categorical(pattern, num_classes= n_vocab)\n",
        "        x = np.expand_dims(x, axis = 0)\n",
        "        prediction = model.predict(x, verbose=0)\n",
        "        index = np.argmax(prediction)\n",
        "        result = int_to_char[index]\n",
        "        print(result, end='')\n",
        "        seq_in = [int_to_char[value] for value in pattern]\n",
        "        text += result\n",
        "        pattern.append(index)\n",
        "        pattern = pattern[1:len(pattern)]\n",
        "    print(\"\\nDone.\")\n",
        "    return(text)\n",
        "\n",
        "generate_text(model, pattern)"
      ],
      "execution_count": null,
      "outputs": [
        {
          "output_type": "stream",
          "name": "stdout",
          "text": [
            "Seed:\n",
            "\"  on;\n",
            "then, when you' \"\n",
            "ve no remeaber dound in it again, and the most bust tome this time, when she began again: and i'm sure i mean would be a little baty cain of eneraling about permans, and alice was soing\n",
            "to bees, and t\n",
            "Done.\n"
          ]
        },
        {
          "output_type": "execute_result",
          "data": {
            "application/vnd.google.colaboratory.intrinsic+json": {
              "type": "string"
            },
            "text/plain": [
              "\"ve no remeaber dound in it again, and the most bust tome this time, when she began again: and i'm sure i mean would be a little baty cain of eneraling about permans, and alice was soing\\nto bees, and t\""
            ]
          },
          "metadata": {},
          "execution_count": 37
        }
      ]
    },
    {
      "cell_type": "code",
      "metadata": {
        "id": "zbBhMOyRxKe_"
      },
      "source": [
        ""
      ],
      "execution_count": null,
      "outputs": []
    }
  ]
}