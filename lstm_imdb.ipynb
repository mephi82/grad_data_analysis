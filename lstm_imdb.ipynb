{
  "nbformat": 4,
  "nbformat_minor": 0,
  "metadata": {
    "colab": {
      "name": "lstm_imdb.ipynb",
      "provenance": [],
      "include_colab_link": true
    },
    "kernelspec": {
      "name": "python3",
      "display_name": "Python 3"
    },
    "language_info": {
      "name": "python"
    },
    "accelerator": "GPU"
  },
  "cells": [
    {
      "cell_type": "markdown",
      "metadata": {
        "id": "view-in-github",
        "colab_type": "text"
      },
      "source": [
        "<a href=\"https://colab.research.google.com/github/mephi82/grad_data_analysis/blob/main/lstm_imdb.ipynb\" target=\"_parent\"><img src=\"https://colab.research.google.com/assets/colab-badge.svg\" alt=\"Open In Colab\"/></a>"
      ]
    },
    {
      "cell_type": "code",
      "metadata": {
        "id": "vp7NpKYXwodr"
      },
      "source": [
        "from tensorflow.keras import datasets, layers, utils, models, optimizers, preprocessing\n",
        "import matplotlib.pyplot as plt\n",
        "import numpy as np"
      ],
      "execution_count": 1,
      "outputs": []
    },
    {
      "cell_type": "code",
      "metadata": {
        "colab": {
          "base_uri": "https://localhost:8080/"
        },
        "id": "fDPdpKOmwr6p",
        "outputId": "111b6fc0-2434-4c52-a205-8dd6311910f6"
      },
      "source": [
        "top_words = 5000\n",
        "(X_train, y_train), (X_test, y_test) = datasets.imdb.load_data(num_words=top_words)\n",
        "(X_train.shape, y_train.shape, X_test.shape, y_test.shape)"
      ],
      "execution_count": 2,
      "outputs": [
        {
          "output_type": "stream",
          "name": "stdout",
          "text": [
            "Downloading data from https://storage.googleapis.com/tensorflow/tf-keras-datasets/imdb.npz\n",
            "17465344/17464789 [==============================] - 0s 0us/step\n",
            "17473536/17464789 [==============================] - 0s 0us/step\n"
          ]
        },
        {
          "output_type": "execute_result",
          "data": {
            "text/plain": [
              "((25000,), (25000,), (25000,), (25000,))"
            ]
          },
          "metadata": {},
          "execution_count": 2
        }
      ]
    },
    {
      "cell_type": "code",
      "metadata": {
        "colab": {
          "base_uri": "https://localhost:8080/"
        },
        "id": "imlNjpAXwsWW",
        "outputId": "deb83b45-3638-4bb1-823a-156af6d1f2b6"
      },
      "source": [
        "np.array(list(map(len, X_train)))\n",
        "set(y_train)"
      ],
      "execution_count": 3,
      "outputs": [
        {
          "output_type": "execute_result",
          "data": {
            "text/plain": [
              "{0, 1}"
            ]
          },
          "metadata": {},
          "execution_count": 3
        }
      ]
    },
    {
      "cell_type": "code",
      "metadata": {
        "colab": {
          "base_uri": "https://localhost:8080/"
        },
        "id": "dVnXXZ8JwvIl",
        "outputId": "f267b9bc-65e6-4450-b388-28053cdeb7aa"
      },
      "source": [
        "# Retrieve the word index file mapping words to indices\n",
        "word_index = datasets.imdb.get_word_index()\n",
        "# Reverse the word index to obtain a dict mapping indices to words\n",
        "inverted_word_index = dict((i, word) for (word, i) in word_index.items())\n",
        "# Decode the first sequence in the dataset\n",
        "print(\" \".join(inverted_word_index[i] for i in X_train[0]))\n",
        "print(y_train[0])\n"
      ],
      "execution_count": 4,
      "outputs": [
        {
          "output_type": "stream",
          "name": "stdout",
          "text": [
            "Downloading data from https://storage.googleapis.com/tensorflow/tf-keras-datasets/imdb_word_index.json\n",
            "1646592/1641221 [==============================] - 0s 0us/step\n",
            "1654784/1641221 [==============================] - 0s 0us/step\n",
            "the as you with out themselves powerful lets loves their becomes reaching had journalist of lot from anyone to have after out atmosphere never more room and it so heart shows to years of every never going and help moments or of every chest visual movie except her was several of enough more with is now current film as you of mine potentially unfortunately of you than him that with out themselves her get for was camp of you movie sometimes movie that with scary but and to story wonderful that in seeing in character to of 70s and with heart had shadows they of here that with her serious to have does when from why what have critics they is you that isn't one will very to as itself with other and in of seen over and for anyone of and br show's to whether from than out themselves history he name half some br of and odd was two most of mean for 1 any an boat she he should is thought and but of script you not while history he heart to real at and but when from one bit then have two of script their with her nobody most that with wasn't to with armed acting watch an for with and film want an\n",
            "1\n"
          ]
        }
      ]
    },
    {
      "cell_type": "code",
      "metadata": {
        "id": "40iD8L8kwwsF"
      },
      "source": [
        "# truncate and pad input sequences\n",
        "max_review_length = 500\n",
        "X_train = preprocessing.sequence.pad_sequences(X_train, maxlen=max_review_length)\n",
        "X_test = preprocessing.sequence.pad_sequences(X_test, maxlen=max_review_length)"
      ],
      "execution_count": 5,
      "outputs": []
    },
    {
      "cell_type": "code",
      "metadata": {
        "colab": {
          "base_uri": "https://localhost:8080/"
        },
        "id": "0324Zwxxwyl2",
        "outputId": "32326831-89d0-4b7b-e6bb-68e8b211a2da"
      },
      "source": [
        "(X_train.shape, y_train.shape, X_test.shape, y_test.shape)"
      ],
      "execution_count": 6,
      "outputs": [
        {
          "output_type": "execute_result",
          "data": {
            "text/plain": [
              "((25000, 500), (25000,), (25000, 500), (25000,))"
            ]
          },
          "metadata": {},
          "execution_count": 6
        }
      ]
    },
    {
      "cell_type": "code",
      "metadata": {
        "colab": {
          "base_uri": "https://localhost:8080/"
        },
        "id": "dLyaBlH6wz9s",
        "outputId": "bb779a83-8d5b-41ec-9a8b-547ec42957bb"
      },
      "source": [
        "# create the model\n",
        "embedding_vector_length = 32\n",
        "def create_LSTM():\n",
        "  model = models.Sequential()\n",
        "  model.add(layers.Embedding(top_words, embedding_vector_length, input_length=max_review_length))\n",
        "  model.add(layers.LSTM(128))\n",
        "\n",
        "  # model.add(layers.Conv1D(filters=32, kernel_size=3, padding='same', activation='relu'))\n",
        "  # model.add(layers.MaxPooling1D(pool_size=2))\n",
        "  # model.add(layers.Dropout(0.5))\n",
        "  # model.add(layers.Dense(256))\n",
        "  # model.add(layers.Dropout(0.5))\n",
        "\n",
        "  model.add(layers.Dense(1, activation='sigmoid'))\n",
        "  return(model)\n",
        "\n",
        "\n",
        "model = create_LSTM()\n",
        "model.compile(loss='binary_crossentropy', optimizer='adam', metrics=['accuracy'])\n",
        "print(model.summary())\n",
        "hist = model.fit(X_train, y_train, validation_split = 0.1, epochs=3, batch_size=64)"
      ],
      "execution_count": 7,
      "outputs": [
        {
          "output_type": "stream",
          "name": "stdout",
          "text": [
            "Model: \"sequential\"\n",
            "_________________________________________________________________\n",
            " Layer (type)                Output Shape              Param #   \n",
            "=================================================================\n",
            " embedding (Embedding)       (None, 500, 32)           160000    \n",
            "                                                                 \n",
            " lstm (LSTM)                 (None, 128)               82432     \n",
            "                                                                 \n",
            " dense (Dense)               (None, 1)                 129       \n",
            "                                                                 \n",
            "=================================================================\n",
            "Total params: 242,561\n",
            "Trainable params: 242,561\n",
            "Non-trainable params: 0\n",
            "_________________________________________________________________\n",
            "None\n",
            "Epoch 1/3\n",
            "352/352 [==============================] - 16s 28ms/step - loss: 0.5154 - accuracy: 0.7423 - val_loss: 0.3809 - val_accuracy: 0.8340\n",
            "Epoch 2/3\n",
            "352/352 [==============================] - 9s 27ms/step - loss: 0.3417 - accuracy: 0.8606 - val_loss: 0.3663 - val_accuracy: 0.8472\n",
            "Epoch 3/3\n",
            "352/352 [==============================] - 10s 28ms/step - loss: 0.3065 - accuracy: 0.8774 - val_loss: 0.3241 - val_accuracy: 0.8704\n"
          ]
        }
      ]
    },
    {
      "cell_type": "code",
      "source": [
        "def create_FCC():\n",
        "  model = models.Sequential()\n",
        "  model.add(layers.Embedding(top_words, embedding_vector_length, input_length=max_review_length))\n",
        "  model.add(layers.Flatten())\n",
        "  model.add(layers.Dense(128, activation='relu'))\n",
        "\n",
        "  # model.add(layers.Conv1D(filters=32, kernel_size=3, padding='same', activation='relu'))\n",
        "  # model.add(layers.MaxPooling1D(pool_size=2))\n",
        "  # model.add(layers.Dropout(0.5))\n",
        "  # model.add(layers.Dense(256))\n",
        "  # model.add(layers.Dropout(0.5))\n",
        "\n",
        "  model.add(layers.Dense(1, activation='sigmoid'))\n",
        "  return(model)\n",
        "\n",
        "model2 = create_FCC()\n",
        "model2.compile(loss='binary_crossentropy', optimizer='adam', metrics=['accuracy'])\n",
        "print(model2.summary())\n",
        "hist = model2.fit(X_train, y_train, validation_split = 0.1, epochs=3, batch_size=64)"
      ],
      "metadata": {
        "id": "BNnV8Gqh7THz",
        "outputId": "4229875d-742f-45cd-e52c-ac3bdbe50d3e",
        "colab": {
          "base_uri": "https://localhost:8080/"
        }
      },
      "execution_count": 10,
      "outputs": [
        {
          "output_type": "stream",
          "name": "stdout",
          "text": [
            "Model: \"sequential_3\"\n",
            "_________________________________________________________________\n",
            " Layer (type)                Output Shape              Param #   \n",
            "=================================================================\n",
            " embedding_3 (Embedding)     (None, 500, 32)           160000    \n",
            "                                                                 \n",
            " flatten (Flatten)           (None, 16000)             0         \n",
            "                                                                 \n",
            " dense_5 (Dense)             (None, 128)               2048128   \n",
            "                                                                 \n",
            " dense_6 (Dense)             (None, 1)                 129       \n",
            "                                                                 \n",
            "=================================================================\n",
            "Total params: 2,208,257\n",
            "Trainable params: 2,208,257\n",
            "Non-trainable params: 0\n",
            "_________________________________________________________________\n",
            "None\n",
            "Epoch 1/3\n",
            "352/352 [==============================] - 2s 5ms/step - loss: 0.4203 - accuracy: 0.7861 - val_loss: 0.2985 - val_accuracy: 0.8740\n",
            "Epoch 2/3\n",
            "352/352 [==============================] - 2s 5ms/step - loss: 0.1456 - accuracy: 0.9477 - val_loss: 0.3608 - val_accuracy: 0.8592\n",
            "Epoch 3/3\n",
            "352/352 [==============================] - 2s 4ms/step - loss: 0.0290 - accuracy: 0.9932 - val_loss: 0.4623 - val_accuracy: 0.8624\n"
          ]
        }
      ]
    },
    {
      "cell_type": "code",
      "metadata": {
        "colab": {
          "base_uri": "https://localhost:8080/"
        },
        "id": "L2CYTFRvw1N8",
        "outputId": "bc1a4451-3a1b-4765-b62a-ba8b1e137042"
      },
      "source": [
        "# Final evaluation of the model\n",
        "scores = model.evaluate(X_test, y_test, verbose=0)\n",
        "print(\"Accuracy: %.2f%%\" % (scores[1]*100))\n",
        "scores = model2.evaluate(X_test, y_test, verbose=0)\n",
        "print(\"Accuracy: %.2f%%\" % (scores[1]*100))"
      ],
      "execution_count": 12,
      "outputs": [
        {
          "output_type": "stream",
          "name": "stdout",
          "text": [
            "Accuracy: 86.84%\n",
            "Accuracy: 85.99%\n"
          ]
        }
      ]
    },
    {
      "cell_type": "code",
      "metadata": {
        "id": "U_JJE_i81RnR"
      },
      "source": [
        ""
      ],
      "execution_count": null,
      "outputs": []
    }
  ]
}