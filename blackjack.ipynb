{
  "nbformat": 4,
  "nbformat_minor": 0,
  "metadata": {
    "colab": {
      "name": "blackjack.ipynb",
      "provenance": [],
      "collapsed_sections": [],
      "authorship_tag": "ABX9TyPhkpRpDxoC+wtb4c+CkdWu",
      "include_colab_link": true
    },
    "kernelspec": {
      "name": "python3",
      "display_name": "Python 3"
    },
    "language_info": {
      "name": "python"
    }
  },
  "cells": [
    {
      "cell_type": "markdown",
      "metadata": {
        "id": "view-in-github",
        "colab_type": "text"
      },
      "source": [
        "<a href=\"https://colab.research.google.com/github/mephi82/grad_data_analysis/blob/main/blackjack.ipynb\" target=\"_parent\"><img src=\"https://colab.research.google.com/assets/colab-badge.svg\" alt=\"Open In Colab\"/></a>"
      ]
    },
    {
      "cell_type": "code",
      "execution_count": null,
      "metadata": {
        "id": "spDHJpvu7Az6"
      },
      "outputs": [],
      "source": [
        "import numpy as np"
      ]
    },
    {
      "cell_type": "code",
      "source": [
        "\n",
        "\n",
        "def giveCard():\n",
        "  # 1 stands for ace\n",
        "  c_list = list(range(1, 11)) + [10, 10, 10]\n",
        "  return(np.random.choice(c_list))\n",
        "\n",
        "def deal2cards(given = -1):\n",
        "  # return value after 2 cards and usable ace\n",
        "  value, usable_ace = 0, False\n",
        "  if given == -1:\n",
        "    cards = [giveCard(), giveCard()]\n",
        "  else:\n",
        "    cards = [given, giveCard()]   \n",
        "  if 1 in cards:\n",
        "    value = sum(cards) + 10\n",
        "    usable_ace = True\n",
        "  else:\n",
        "    value = sum(cards)\n",
        "    usable_ace = False\n",
        "  return (value, cards[0], usable_ace) #sum, ace, showing\n",
        "\n",
        "def nextState(state, action):\n",
        "  current_value, showing, usable_ace  = state\n",
        "  is_end = False\n",
        "\n",
        "  if action == 1: #hit\n",
        "    card = giveCard()\n",
        "    if card == 1:\n",
        "        if current_value <= 10:\n",
        "          current_value += 11\n",
        "          usable_ace = True\n",
        "        else:\n",
        "          current_value += 1\n",
        "    else:\n",
        "      current_value += card\n",
        "  else:\n",
        "    is_end = True\n",
        "  \n",
        "  if current_value > 21: #bust\n",
        "    if usable_ace:\n",
        "      current_value -= 10\n",
        "      usable_ace = False\n",
        "    else:\n",
        "      is_end = True\n",
        "\n",
        "  return (is_end, (current_value, showing, usable_ace))\n",
        "\n",
        "def winner(player_value, dealer_value):\n",
        "  # player 1 | draw 0 | dealer -1\n",
        "  winner = 0\n",
        "  if player_value > 21:\n",
        "      if dealer_value > 21:\n",
        "          # draw\n",
        "          winner = 0\n",
        "      else:\n",
        "          winner = -1\n",
        "  else:\n",
        "      if dealer_value > 21:\n",
        "          winner = 1\n",
        "      else:\n",
        "          if player_value < dealer_value:\n",
        "              winner = -1\n",
        "          elif player_value > dealer_value:\n",
        "              winner = 1\n",
        "          else:\n",
        "              # draw\n",
        "              winner = 0\n",
        "  return winner\n",
        "\n",
        "def dealerPlay(state):\n",
        "\n",
        "  is_end = False\n",
        "  while is_end is False:\n",
        "    # print('d',state)\n",
        "    if state[0] >= 17:\n",
        "      action = 0\n",
        "    else:\n",
        "      action = 1\n",
        "    is_end, state = nextState(state, action)\n",
        "    \n",
        "  return(state)\n"
      ],
      "metadata": {
        "id": "RayOlrzVxoUB"
      },
      "execution_count": null,
      "outputs": []
    },
    {
      "cell_type": "code",
      "source": [
        "#an episode\n",
        "def gen_episode(pi, s0 = None, a0 = -1):\n",
        "  if s0 is None:\n",
        "    s0 = deal2cards()\n",
        "    showing = -1\n",
        "  else:\n",
        "    showing = s0[1]\n",
        "  \n",
        "  d_value, showing, d_ace = deal2cards(showing)\n",
        "    \n",
        "  while s0[0] < 12:\n",
        "    _, s0 = nextState(s0, 1)\n",
        "\n",
        "  p_state = (s0[0], showing, s0[2])\n",
        "  S = []\n",
        "  A = []\n",
        "  R = [] #to match index\n",
        "\n",
        "  if (s0 is not None) and (a0>-1): #first state, action given\n",
        "    S.append(p_state)\n",
        "    A.append(a0)\n",
        "    R.append(0)\n",
        "    player_end, p_state = nextState(p_state, a0)\n",
        "\n",
        "  player_end = False\n",
        "  while player_end is False:\n",
        "    # code for state update\n",
        "    # ...\n",
        "    \n",
        "  # code for final reward, R_t\n",
        "  # ...\n",
        "\n",
        "  return(S, A, R)\n",
        "\n",
        "\n",
        "allS = [(value, showing, ace) for value in range(12, 22) for showing in range(1,11) for ace in [True, False]]"
      ],
      "metadata": {
        "id": "VzR753__1X7j"
      },
      "execution_count": null,
      "outputs": []
    },
    {
      "cell_type": "code",
      "source": [
        "\n",
        "\n",
        "# policy evaluation \n",
        "# policy for 'stick when over 20'\n",
        "hits = {s:1 for s in allS if s[0]<20}\n",
        "sticks = {s:0 for s in allS if s[0]>=20}\n",
        "pi = {**hits, **sticks}\n",
        "\n",
        "# code for initialization\n",
        "V = {s:np.random.rand() for s in allS}\n",
        "Re = {s:[] for s in allS}\n",
        "\n",
        "for e in range(1000):\n",
        "  # code for iteration \n",
        "  # ...\n"
      ],
      "metadata": {
        "id": "zbXoJMI1lyMN"
      },
      "execution_count": null,
      "outputs": []
    },
    {
      "cell_type": "code",
      "source": [
        "# policy control\n",
        "\n",
        "# code for initialization\n",
        "pi = {s:np.random.choice([0,1]) for s in allS}\n",
        "Q = {s:[np.random.random(),np.random.random()] for s in allS}\n",
        "Re = {s:[[],[]] for s in allS}\n",
        "\n",
        "for e in range(300000):\n",
        "  # code for iteration \n",
        "  # ...\n",
        "\n",
        "\n",
        "V = {s: max(Q[s]) for s in allS}"
      ],
      "metadata": {
        "id": "Z8N5_4Z5l9e4"
      },
      "execution_count": null,
      "outputs": []
    },
    {
      "cell_type": "code",
      "source": [
        "import matplotlib.pyplot as plt\n",
        "from matplotlib import cm\n",
        "\n",
        "def plot3d(res, ace, d3=True):\n",
        "  xs = range(12, 22)\n",
        "  ys = range(1,11)\n",
        "  X, Y = np.meshgrid(xs, ys)\n",
        "  Z = np.zeros(X.shape)\n",
        "  for i in range(X.shape[0]):\n",
        "    for j in range(Z.shape[1]):\n",
        "      Z[i,j] = res[X[i,j], Y[i,j], ace]\n",
        "\n",
        "  fig = plt.figure(figsize=(8,5))\n",
        "  if d3:\n",
        "    ax = fig.add_subplot(projection='3d')\n",
        "    ax.plot_surface(X, Y, Z, cmap=cm.coolwarm)\n",
        "    ax.view_init(45,220)\n",
        "  else:\n",
        "    ax = fig.add_subplot()\n",
        "    ax.contour(X,Y,Z, levels=[0.5])\n",
        "\n",
        "plot3d(V, False)\n",
        "plot3d(pi, False, d3=False)\n"
      ],
      "metadata": {
        "id": "WMaP11eoBxPo"
      },
      "execution_count": null,
      "outputs": []
    },
    {
      "cell_type": "code",
      "source": [
        ""
      ],
      "metadata": {
        "id": "veM_vplW0mZQ"
      },
      "execution_count": null,
      "outputs": []
    }
  ]
}