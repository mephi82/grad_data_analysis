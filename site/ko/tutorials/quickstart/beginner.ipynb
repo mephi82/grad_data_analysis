{
  "nbformat": 4,
  "nbformat_minor": 0,
  "metadata": {
    "colab": {
      "name": "beginner.ipynb",
      "provenance": [],
      "collapsed_sections": []
    },
    "kernelspec": {
      "display_name": "Python 3",
      "name": "python3"
    }
  },
  "cells": [
    {
      "cell_type": "markdown",
      "metadata": {
        "id": "rX8mhOLljYeM"
      },
      "source": [
        "##### Copyright 2018 The TensorFlow Authors.\n",
        "\n",
        "Licensed under the Apache License, Version 2.0 (the \"License\");"
      ]
    },
    {
      "cell_type": "code",
      "metadata": {
        "cellView": "form",
        "id": "BZSlp3DAjdYf"
      },
      "source": [
        "#@title Licensed under the Apache License, Version 2.0 (the \"License\");\n",
        "# you may not use this file except in compliance with the License.\n",
        "# You may obtain a copy of the License at\n",
        "#\n",
        "# https://www.apache.org/licenses/LICENSE-2.0\n",
        "#\n",
        "# Unless required by applicable law or agreed to in writing, software\n",
        "# distributed under the License is distributed on an \"AS IS\" BASIS,\n",
        "# WITHOUT WARRANTIES OR CONDITIONS OF ANY KIND, either express or implied.\n",
        "# See the License for the specific language governing permissions and\n",
        "# limitations under the License."
      ],
      "execution_count": null,
      "outputs": []
    },
    {
      "cell_type": "markdown",
      "metadata": {
        "id": "3wF5wszaj97Y"
      },
      "source": [
        "# 텐서플로 2.0 시작하기: 초보자용"
      ]
    },
    {
      "cell_type": "markdown",
      "metadata": {
        "id": "hiH7AC-NTniF"
      },
      "source": [
        "이 문서는 [구글 코랩](https://colab.research.google.com/notebooks/welcome.ipynb)(Colaboratory) 노트북 파일입니다. 파이썬 프로그램을 브라우저에서 직접 실행할 수 있기 때문에 텐서플로를 배우고 사용하기 좋은 도구입니다:\n",
        "\n",
        "1. 파이썬 런타임(runtime)에 연결하세요: 메뉴 막대의 오른쪽 상단에서 *CONNECT*를 선택하세요.\n",
        "2. 노트북의 모든 코드 셀(cell)을 실행하세요: *Runtime* > *Run all*을 선택하세요.\n",
        "\n",
        "더 많은 예제와 자세한 안내는 [텐서플로 튜토리얼](https://www.tensorflow.org/tutorials/)을 참고하세요.\n",
        "\n",
        "먼저 프로그램에 텐서플로 라이브러리를 임포트합니다:"
      ]
    },
    {
      "cell_type": "code",
      "metadata": {
        "id": "0trJmd6DjqBZ"
      },
      "source": [
        "import tensorflow as tf"
      ],
      "execution_count": 46,
      "outputs": []
    },
    {
      "cell_type": "markdown",
      "metadata": {
        "id": "7NAbSZiaoJ4z"
      },
      "source": [
        "[MNIST 데이터셋](http://yann.lecun.com/exdb/mnist/)을 로드하여 준비합니다. 샘플 값을 정수에서 부동소수로 변환합니다:"
      ]
    },
    {
      "cell_type": "code",
      "metadata": {
        "id": "7FP5258xjs-v",
        "colab": {
          "base_uri": "https://localhost:8080/"
        },
        "outputId": "f4b9d1d3-9a1f-4a6b-e331-031909387a52"
      },
      "source": [
        "mnist = tf.keras.datasets.mnist\n",
        "\n",
        "(x_train, y_train), (x_test, y_test) = mnist.load_data()\n",
        "print(x_train.shape, y_train.shape, x_test.shape, y_test.shape)"
      ],
      "execution_count": 47,
      "outputs": [
        {
          "output_type": "stream",
          "name": "stdout",
          "text": [
            "(60000, 28, 28) (60000,) (10000, 28, 28) (10000,)\n"
          ]
        }
      ]
    },
    {
      "cell_type": "code",
      "metadata": {
        "id": "v75cwLBIJGy8"
      },
      "source": [
        "x_train, x_test = x_train / 255.0, x_test / 255.0"
      ],
      "execution_count": 48,
      "outputs": []
    },
    {
      "cell_type": "code",
      "metadata": {
        "colab": {
          "base_uri": "https://localhost:8080/",
          "height": 265
        },
        "id": "98ZOERZXJ8Zq",
        "outputId": "a7a29cd2-a464-47c6-ee95-8f4941e70aeb"
      },
      "source": [
        "import matplotlib.pyplot as plt\n",
        "\n",
        "plt.figure()\n",
        "plt.imshow(x_train[0])\n",
        "plt.show()\n"
      ],
      "execution_count": 49,
      "outputs": [
        {
          "output_type": "display_data",
          "data": {
            "image/png": "[encoded data removed]",
            "text/plain": [
              "<Figure size 432x288 with 1 Axes>"
            ]
          },
          "metadata": {
            "needs_background": "light"
          }
        }
      ]
    },
    {
      "cell_type": "code",
      "metadata": {
        "colab": {
          "base_uri": "https://localhost:8080/",
          "height": 589
        },
        "id": "D27CLZwyKXPG",
        "outputId": "4171aa52-4ad3-458c-a26f-4d1106b78e3a"
      },
      "source": [
        "plt.figure(figsize=(10,10))\n",
        "for i in range(25):\n",
        "    plt.subplot(5,5,i+1)\n",
        "    plt.xticks([])\n",
        "    plt.yticks([])\n",
        "    plt.grid(False)\n",
        "    plt.imshow(x_train[i], cmap=plt.cm.binary)\n",
        "    plt.xlabel(y_train[i])\n",
        "plt.show()"
      ],
      "execution_count": 50,
      "outputs": [
        {
          "output_type": "display_data",
          "data": {
            "image/png": "[encoded data removed]",
            "text/plain": [
              "<Figure size 720x720 with 25 Axes>"
            ]
          },
          "metadata": {}
        }
      ]
    },
    {
      "cell_type": "markdown",
      "metadata": {
        "id": "BPZ68wASog_I"
      },
      "source": [
        "층을 차례대로 쌓아 `tf.keras.Sequential` 모델을 만듭니다. 훈련에 사용할 옵티마이저(optimizer)와 손실 함수를 선택합니다:"
      ]
    },
    {
      "cell_type": "code",
      "metadata": {
        "id": "h3IKyzTCDNGo",
        "colab": {
          "base_uri": "https://localhost:8080/"
        },
        "outputId": "bbdf2f1c-4bef-4aec-f6c7-312206f6b9d3"
      },
      "source": [
        "model = tf.keras.models.Sequential([\n",
        "  tf.keras.layers.Flatten(input_shape=(28, 28), name = 'input'),\n",
        "  tf.keras.layers.Dense(128, activation='relu', name = 'hidden'),\n",
        "  tf.keras.layers.Dense(10, activation='softmax', name = 'output')\n",
        "])\n",
        "\n",
        "print(model.summary())\n",
        "model.compile(optimizer='sgd',\n",
        "              loss='sparse_categorical_crossentropy',\n",
        "              metrics=['accuracy'])"
      ],
      "execution_count": 51,
      "outputs": [
        {
          "output_type": "stream",
          "name": "stdout",
          "text": [
            "Model: \"sequential_7\"\n",
            "_________________________________________________________________\n",
            "Layer (type)                 Output Shape              Param #   \n",
            "=================================================================\n",
            "input (Flatten)              (None, 784)               0         \n",
            "_________________________________________________________________\n",
            "hidden (Dense)               (None, 128)               100480    \n",
            "_________________________________________________________________\n",
            "output (Dense)               (None, 10)                1290      \n",
            "=================================================================\n",
            "Total params: 101,770\n",
            "Trainable params: 101,770\n",
            "Non-trainable params: 0\n",
            "_________________________________________________________________\n",
            "None\n"
          ]
        }
      ]
    },
    {
      "cell_type": "markdown",
      "metadata": {
        "id": "ix4mEL65on-w"
      },
      "source": [
        "모델을 훈련하고 평가합니다:"
      ]
    },
    {
      "cell_type": "code",
      "metadata": {
        "id": "F7dTAzgHDUh7",
        "colab": {
          "base_uri": "https://localhost:8080/"
        },
        "outputId": "b9165200-bf18-40de-8a12-402afb26aa30"
      },
      "source": [
        "model.fit(x_train, y_train, batch_size = 32, epochs=20, validation_split= 0.1)\n",
        "model.evaluate(x_test,  y_test, verbose=2)"
      ],
      "execution_count": 71,
      "outputs": [
        {
          "output_type": "stream",
          "name": "stdout",
          "text": [
            "Epoch 1/20\n",
            "1688/1688 [==============================] - 3s 2ms/step - loss: 0.1344 - accuracy: 0.9622 - val_loss: 0.1191 - val_accuracy: 0.9682\n",
            "Epoch 2/20\n",
            "1688/1688 [==============================] - 3s 1ms/step - loss: 0.1290 - accuracy: 0.9636 - val_loss: 0.1191 - val_accuracy: 0.9678\n",
            "Epoch 3/20\n",
            "1688/1688 [==============================] - 3s 1ms/step - loss: 0.1240 - accuracy: 0.9652 - val_loss: 0.1137 - val_accuracy: 0.9697\n",
            "Epoch 4/20\n",
            "1688/1688 [==============================] - 3s 2ms/step - loss: 0.1194 - accuracy: 0.9664 - val_loss: 0.1106 - val_accuracy: 0.9698\n",
            "Epoch 5/20\n",
            "1688/1688 [==============================] - 3s 1ms/step - loss: 0.1150 - accuracy: 0.9675 - val_loss: 0.1083 - val_accuracy: 0.9688\n",
            "Epoch 6/20\n",
            "1688/1688 [==============================] - 3s 2ms/step - loss: 0.1108 - accuracy: 0.9688 - val_loss: 0.1058 - val_accuracy: 0.9705\n",
            "Epoch 7/20\n",
            "1688/1688 [==============================] - 2s 1ms/step - loss: 0.1070 - accuracy: 0.9698 - val_loss: 0.1042 - val_accuracy: 0.9720\n",
            "Epoch 8/20\n",
            "1688/1688 [==============================] - 2s 1ms/step - loss: 0.1034 - accuracy: 0.9711 - val_loss: 0.1021 - val_accuracy: 0.9723\n",
            "Epoch 9/20\n",
            "1688/1688 [==============================] - 3s 1ms/step - loss: 0.1002 - accuracy: 0.9720 - val_loss: 0.0999 - val_accuracy: 0.9727\n",
            "Epoch 10/20\n",
            "1688/1688 [==============================] - 2s 1ms/step - loss: 0.0968 - accuracy: 0.9732 - val_loss: 0.0990 - val_accuracy: 0.9727\n",
            "Epoch 11/20\n",
            "1688/1688 [==============================] - 3s 2ms/step - loss: 0.0940 - accuracy: 0.9738 - val_loss: 0.0965 - val_accuracy: 0.9747\n",
            "Epoch 12/20\n",
            "1688/1688 [==============================] - 2s 1ms/step - loss: 0.0910 - accuracy: 0.9751 - val_loss: 0.0969 - val_accuracy: 0.9737\n",
            "Epoch 13/20\n",
            "1688/1688 [==============================] - 2s 1ms/step - loss: 0.0881 - accuracy: 0.9757 - val_loss: 0.0957 - val_accuracy: 0.9747\n",
            "Epoch 14/20\n",
            "1688/1688 [==============================] - 3s 2ms/step - loss: 0.0857 - accuracy: 0.9760 - val_loss: 0.0930 - val_accuracy: 0.9757\n",
            "Epoch 15/20\n",
            "1688/1688 [==============================] - 2s 1ms/step - loss: 0.0833 - accuracy: 0.9770 - val_loss: 0.0912 - val_accuracy: 0.9743\n",
            "Epoch 16/20\n",
            "1688/1688 [==============================] - 3s 1ms/step - loss: 0.0810 - accuracy: 0.9775 - val_loss: 0.0918 - val_accuracy: 0.9755\n",
            "Epoch 17/20\n",
            "1688/1688 [==============================] - 2s 1ms/step - loss: 0.0787 - accuracy: 0.9785 - val_loss: 0.0897 - val_accuracy: 0.9760\n",
            "Epoch 18/20\n",
            "1688/1688 [==============================] - 2s 1ms/step - loss: 0.0767 - accuracy: 0.9791 - val_loss: 0.0886 - val_accuracy: 0.9758\n",
            "Epoch 19/20\n",
            "1688/1688 [==============================] - 3s 2ms/step - loss: 0.0746 - accuracy: 0.9797 - val_loss: 0.0874 - val_accuracy: 0.9768\n",
            "Epoch 20/20\n",
            "1688/1688 [==============================] - 2s 1ms/step - loss: 0.0727 - accuracy: 0.9802 - val_loss: 0.0868 - val_accuracy: 0.9765\n",
            "313/313 - 0s - loss: 0.0937 - accuracy: 0.9715\n"
          ]
        },
        {
          "output_type": "execute_result",
          "data": {
            "text/plain": [
              "[0.09366316348314285, 0.9714999794960022]"
            ]
          },
          "metadata": {},
          "execution_count": 71
        }
      ]
    },
    {
      "cell_type": "code",
      "metadata": {
        "id": "b3NxxCABaAEZ"
      },
      "source": [
        "import numpy as np\n",
        "y_pred = np.fromiter(map(np.argmax, model.predict(x_test)), dtype=np.int)"
      ],
      "execution_count": 72,
      "outputs": []
    },
    {
      "cell_type": "code",
      "metadata": {
        "id": "cmFveLaqaA7O",
        "outputId": "6d028044-9682-4f32-c79e-69d816f3a84c",
        "colab": {
          "base_uri": "https://localhost:8080/",
          "height": 589
        }
      },
      "source": [
        "errors = np.where(y_pred!=y_test)[0]\n",
        "plt.figure(figsize=(10,10))\n",
        "for i in range(25):\n",
        "    plt.subplot(5,5,i+1)\n",
        "    plt.xticks([])\n",
        "    plt.yticks([])\n",
        "    plt.grid(False)\n",
        "    plt.imshow(x_test[errors[i]], cmap=plt.cm.binary)\n",
        "    plt.xlabel(y_pred[errors[i]])\n",
        "plt.show()"
      ],
      "execution_count": 73,
      "outputs": [
        {
          "output_type": "display_data",
          "data": {
            "image/png": "[encoded data removed]",
            "text/plain": [
              "<Figure size 720x720 with 25 Axes>"
            ]
          },
          "metadata": {}
        }
      ]
    },
    {
      "cell_type": "code",
      "metadata": {
        "id": "XMs7DdcIndDH"
      },
      "source": [
        ""
      ],
      "execution_count": null,
      "outputs": []
    }
  ]
}