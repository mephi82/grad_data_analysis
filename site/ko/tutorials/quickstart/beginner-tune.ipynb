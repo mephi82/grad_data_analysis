{
  "nbformat": 4,
  "nbformat_minor": 0,
  "metadata": {
    "colab": {
      "name": "beginner.ipynb",
      "provenance": [],
      "collapsed_sections": []
    },
    "kernelspec": {
      "display_name": "Python 3",
      "name": "python3"
    },
    "accelerator": "TPU"
  },
  "cells": [
    {
      "cell_type": "markdown",
      "metadata": {
        "id": "rX8mhOLljYeM"
      },
      "source": [
        "##### Copyright 2018 The TensorFlow Authors.\n",
        "\n",
        "Licensed under the Apache License, Version 2.0 (the \"License\");"
      ]
    },
    {
      "cell_type": "code",
      "metadata": {
        "cellView": "form",
        "id": "BZSlp3DAjdYf"
      },
      "source": [
        "#@title Licensed under the Apache License, Version 2.0 (the \"License\");\n",
        "# you may not use this file except in compliance with the License.\n",
        "# You may obtain a copy of the License at\n",
        "#\n",
        "# https://www.apache.org/licenses/LICENSE-2.0\n",
        "#\n",
        "# Unless required by applicable law or agreed to in writing, software\n",
        "# distributed under the License is distributed on an \"AS IS\" BASIS,\n",
        "# WITHOUT WARRANTIES OR CONDITIONS OF ANY KIND, either express or implied.\n",
        "# See the License for the specific language governing permissions and\n",
        "# limitations under the License."
      ],
      "execution_count": null,
      "outputs": []
    },
    {
      "cell_type": "markdown",
      "metadata": {
        "id": "3wF5wszaj97Y"
      },
      "source": [
        "# 텐서플로 2.0 시작하기: 초보자용"
      ]
    },
    {
      "cell_type": "markdown",
      "metadata": {
        "id": "hiH7AC-NTniF"
      },
      "source": [
        "이 문서는 [구글 코랩](https://colab.research.google.com/notebooks/welcome.ipynb)(Colaboratory) 노트북 파일입니다. 파이썬 프로그램을 브라우저에서 직접 실행할 수 있기 때문에 텐서플로를 배우고 사용하기 좋은 도구입니다:\n",
        "\n",
        "1. 파이썬 런타임(runtime)에 연결하세요: 메뉴 막대의 오른쪽 상단에서 *CONNECT*를 선택하세요.\n",
        "2. 노트북의 모든 코드 셀(cell)을 실행하세요: *Runtime* > *Run all*을 선택하세요.\n",
        "\n",
        "더 많은 예제와 자세한 안내는 [텐서플로 튜토리얼](https://www.tensorflow.org/tutorials/)을 참고하세요.\n",
        "\n",
        "먼저 프로그램에 텐서플로 라이브러리를 임포트합니다:"
      ]
    },
    {
      "cell_type": "code",
      "metadata": {
        "id": "0trJmd6DjqBZ"
      },
      "source": [
        "import tensorflow as tf"
      ],
      "execution_count": 1,
      "outputs": []
    },
    {
      "cell_type": "markdown",
      "metadata": {
        "id": "7NAbSZiaoJ4z"
      },
      "source": [
        "[MNIST 데이터셋](http://yann.lecun.com/exdb/mnist/)을 로드하여 준비합니다. 샘플 값을 정수에서 부동소수로 변환합니다:"
      ]
    },
    {
      "cell_type": "code",
      "metadata": {
        "id": "7FP5258xjs-v",
        "colab": {
          "base_uri": "https://localhost:8080/"
        },
        "outputId": "121bc78a-606d-49b2-af12-77ba35a486dc"
      },
      "source": [
        "mnist = tf.keras.datasets.mnist\n",
        "\n",
        "(x_train, y_train), (x_test, y_test) = mnist.load_data()\n",
        "print(x_train.shape, y_train.shape, x_test.shape, y_test.shape)"
      ],
      "execution_count": 2,
      "outputs": [
        {
          "output_type": "stream",
          "name": "stdout",
          "text": [
            "Downloading data from https://storage.googleapis.com/tensorflow/tf-keras-datasets/mnist.npz\n",
            "11493376/11490434 [==============================] - 0s 0us/step\n",
            "11501568/11490434 [==============================] - 0s 0us/step\n",
            "(60000, 28, 28) (60000,) (10000, 28, 28) (10000,)\n"
          ]
        }
      ]
    },
    {
      "cell_type": "code",
      "metadata": {
        "id": "v75cwLBIJGy8"
      },
      "source": [
        "x_train, x_test = x_train / 255.0, x_test / 255.0"
      ],
      "execution_count": 3,
      "outputs": []
    },
    {
      "cell_type": "code",
      "metadata": {
        "colab": {
          "base_uri": "https://localhost:8080/",
          "height": 265
        },
        "id": "98ZOERZXJ8Zq",
        "outputId": "fc0b55cb-443e-4803-aeba-f5cc3f99329b"
      },
      "source": [
        "import matplotlib.pyplot as plt\n",
        "\n",
        "plt.figure()\n",
        "plt.imshow(x_train[0])\n",
        "plt.show()\n"
      ],
      "execution_count": 4,
      "outputs": [
        {
          "output_type": "display_data",
          "data": {
            "image/png": "[encoded data removed]",
            "text/plain": [
              "<Figure size 432x288 with 1 Axes>"
            ]
          },
          "metadata": {
            "needs_background": "light"
          }
        }
      ]
    },
    {
      "cell_type": "code",
      "metadata": {
        "colab": {
          "base_uri": "https://localhost:8080/",
          "height": 589
        },
        "id": "D27CLZwyKXPG",
        "outputId": "a627d583-f905-430f-a9f6-d6422180af7d"
      },
      "source": [
        "plt.figure(figsize=(10,10))\n",
        "for i in range(25):\n",
        "    plt.subplot(5,5,i+1)\n",
        "    plt.xticks([])\n",
        "    plt.yticks([])\n",
        "    plt.grid(False)\n",
        "    plt.imshow(x_train[i], cmap=plt.cm.binary)\n",
        "    plt.xlabel(y_train[i])\n",
        "plt.show()"
      ],
      "execution_count": 5,
      "outputs": [
        {
          "output_type": "display_data",
          "data": {
            "image/png": "[encoded data removed]",
            "text/plain": [
              "<Figure size 720x720 with 25 Axes>"
            ]
          },
          "metadata": {}
        }
      ]
    },
    {
      "cell_type": "markdown",
      "metadata": {
        "id": "BPZ68wASog_I"
      },
      "source": [
        "층을 차례대로 쌓아 `tf.keras.Sequential` 모델을 만듭니다. 훈련에 사용할 옵티마이저(optimizer)와 손실 함수를 선택합니다:"
      ]
    },
    {
      "cell_type": "code",
      "metadata": {
        "id": "h3IKyzTCDNGo"
      },
      "source": [
        "import time\n",
        "def model_tune(x_train, y_train, nepoch, LR, batchsize, nlayers, nhidden, DOR):\n",
        "\n",
        "  model = tf.keras.models.Sequential()\n",
        "  model.add(tf.keras.layers.Flatten(input_shape=(28, 28), name = 'input'))\n",
        "  for i in range(nlayers):\n",
        "    model.add(tf.keras.layers.Dense(nhidden, activation='relu', name = 'hidden'+str(i)))\n",
        "    model.add(tf.keras.layers.Dropout(DOR))\n",
        "  model.add(tf.keras.layers.Dense(10, activation='softmax', name = 'output'))\n",
        "\n",
        "  print(model.summary())\n",
        "  model.compile(optimizer=tf.keras.optimizers.Adam(learning_rate=LR),\n",
        "                loss='sparse_categorical_crossentropy',\n",
        "                metrics=['accuracy'])\n",
        "  st = time.time()\n",
        "  hist = model.fit(x_train, y_train, batch_size = batchsize, epochs=nepoch, validation_split= 0.2)\n",
        "  return(model, hist, time.time()-st)"
      ],
      "execution_count": 6,
      "outputs": []
    },
    {
      "cell_type": "code",
      "metadata": {
        "id": "F7dTAzgHDUh7"
      },
      "source": [
        "\n",
        "\n",
        "LRs = [0.1, 0.001, 0.0001]\n",
        "batchsizes = [32, 128, 512]\n",
        "nlayers = [1,2]\n",
        "nhiddens = [32, 128, 256]\n",
        "DORs = [0.2, 0.3, 0.4]\n",
        "results = []\n",
        "\n",
        "# for p in LRs:\n",
        "#   model, hist, elapsed = model_tune(x_train, y_train, 5, p, 32, 1, 32, 0.2)\n",
        "#   results.append((str(p), hist.history['val_accuracy'][-1], elapsed))\n",
        "\n",
        "# results =list(zip(*results))\n",
        "# model.evaluate(x_test,  y_test, verbose=2)"
      ],
      "execution_count": 7,
      "outputs": []
    },
    {
      "cell_type": "code",
      "metadata": {
        "colab": {
          "base_uri": "https://localhost:8080/",
          "height": 265
        },
        "id": "MgzfT-vIp0St",
        "outputId": "069bf52b-8a0e-41e8-f787-5c6d5efe539b"
      },
      "source": [
        "import matplotlib.pyplot as plt\n",
        "\n",
        "fig, axs = plt.subplots(2,1)\n",
        "\n",
        "axs[0].plot(results[0], results[1], 'b', label='accuracy')\n",
        "axs[0].legend(loc='upper left')\n",
        "axs[1].plot(results[0], results[2], 'g', label='time')\n",
        "axs[1].legend(loc='upper right')\n",
        "\n",
        "\n",
        "\n",
        "# fig, acc_ax = plt.subplots()\n",
        "# acc_ax.plot(hist.history['accuracy'], 'b', label='train acc')\n",
        "# acc_ax.plot(hist.history['val_accuracy'], 'g', label='val acc')\n",
        "# acc_ax.set_ylabel('accuracy')\n",
        "# acc_ax.legend(loc='upper right')\n",
        "\n",
        "plt.show()"
      ],
      "execution_count": null,
      "outputs": [
        {
          "output_type": "display_data",
          "data": {
            "image/png": "[encoded data removed]",
            "text/plain": [
              "<Figure size 432x288 with 2 Axes>"
            ]
          },
          "metadata": {
            "needs_background": "light"
          }
        }
      ]
    },
    {
      "cell_type": "code",
      "metadata": {
        "id": "YKI189Te2KoP"
      },
      "source": [
        "import pandas as pd\n",
        "import io\n",
        "# x=pd.read_clipboard()\n",
        "# x\n",
        "x='''\n",
        "\"A\",\"B\",\"C\",\"D\",\"E\"\n",
        "\"3\",\"1\",\"2\",\"2\",\"3\"\n",
        "\"3\",\"3\",\"1\",\"1\",\"1\"\n",
        "\"2\",\"1\",\"2\",\"1\",\"3\"\n",
        "\"1\",\"1\",\"1\",\"2\",\"2\"\n",
        "\"2\",\"1\",\"2\",\"3\",\"1\"\n",
        "\"2\",\"2\",\"1\",\"2\",\"2\"\n",
        "\"1\",\"3\",\"2\",\"2\",\"3\"\n",
        "\"1\",\"1\",\"1\",\"1\",\"1\"\n",
        "\"2\",\"3\",\"1\",\"2\",\"1\"\n",
        "\"2\",\"2\",\"1\",\"3\",\"3\"\n",
        "\"3\",\"2\",\"2\",\"2\",\"1\"\n",
        "\"1\",\"2\",\"2\",\"3\",\"1\"\n",
        "\"2\",\"3\",\"2\",\"1\",\"2\"\n",
        "\"3\",\"2\",\"2\",\"1\",\"2\"\n",
        "\"1\",\"3\",\"2\",\"3\",\"2\"\n",
        "\"1\",\"2\",\"1\",\"1\",\"3\"\n",
        "\"3\",\"3\",\"1\",\"3\",\"3\"\n",
        "\"3\",\"1\",\"1\",\"3\",\"2\"\n",
        "'''\n",
        "doe = pd.read_table( io.StringIO(x), sep = ',')-1\n"
      ],
      "execution_count": 8,
      "outputs": []
    },
    {
      "cell_type": "code",
      "metadata": {
        "id": "8v141JdSQFxK",
        "outputId": "0fc53d8f-27ff-4fa5-8f43-d2e88d8191de",
        "colab": {
          "base_uri": "https://localhost:8080/"
        }
      },
      "source": [
        "for i,params in doe.iterrows():\n",
        "  print(params)\n",
        "  model, hist, elapsed = model_tune(x_train, y_train, 5, LRs[params[0]], batchsizes[params[1]], nlayers[params[2]], nhiddens[params[3]], DORs[params[4]])\n",
        "  results.append((i, hist.history['val_accuracy'][-1], elapsed))"
      ],
      "execution_count": null,
      "outputs": [
        {
          "output_type": "stream",
          "name": "stdout",
          "text": [
            "A    2\n",
            "B    0\n",
            "C    1\n",
            "D    1\n",
            "E    2\n",
            "Name: 0, dtype: int64\n",
            "Model: \"sequential\"\n",
            "_________________________________________________________________\n",
            "Layer (type)                 Output Shape              Param #   \n",
            "=================================================================\n",
            "input (Flatten)              (None, 784)               0         \n",
            "_________________________________________________________________\n",
            "hidden0 (Dense)              (None, 128)               100480    \n",
            "_________________________________________________________________\n",
            "dropout (Dropout)            (None, 128)               0         \n",
            "_________________________________________________________________\n",
            "hidden1 (Dense)              (None, 128)               16512     \n",
            "_________________________________________________________________\n",
            "dropout_1 (Dropout)          (None, 128)               0         \n",
            "_________________________________________________________________\n",
            "output (Dense)               (None, 10)                1290      \n",
            "=================================================================\n",
            "Total params: 118,282\n",
            "Trainable params: 118,282\n",
            "Non-trainable params: 0\n",
            "_________________________________________________________________\n",
            "None\n",
            "Epoch 1/5\n",
            "1500/1500 [==============================] - 6s 4ms/step - loss: 1.0572 - accuracy: 0.6699 - val_loss: 0.3727 - val_accuracy: 0.8965\n",
            "Epoch 2/5\n",
            "1500/1500 [==============================] - 5s 3ms/step - loss: 0.4917 - accuracy: 0.8521 - val_loss: 0.2689 - val_accuracy: 0.9212\n",
            "Epoch 3/5\n",
            "1500/1500 [==============================] - 5s 3ms/step - loss: 0.3820 - accuracy: 0.8868 - val_loss: 0.2244 - val_accuracy: 0.9329\n",
            "Epoch 4/5\n",
            "1500/1500 [==============================] - 5s 3ms/step - loss: 0.3261 - accuracy: 0.9042 - val_loss: 0.1946 - val_accuracy: 0.9442\n",
            "Epoch 5/5\n",
            "1500/1500 [==============================] - 5s 3ms/step - loss: 0.2861 - accuracy: 0.9186 - val_loss: 0.1773 - val_accuracy: 0.9504\n",
            "A    2\n",
            "B    2\n",
            "C    0\n",
            "D    0\n",
            "E    0\n",
            "Name: 1, dtype: int64\n",
            "Model: \"sequential_1\"\n",
            "_________________________________________________________________\n",
            "Layer (type)                 Output Shape              Param #   \n",
            "=================================================================\n",
            "input (Flatten)              (None, 784)               0         \n",
            "_________________________________________________________________\n",
            "hidden0 (Dense)              (None, 32)                25120     \n",
            "_________________________________________________________________\n",
            "dropout_2 (Dropout)          (None, 32)                0         \n",
            "_________________________________________________________________\n",
            "output (Dense)               (None, 10)                330       \n",
            "=================================================================\n",
            "Total params: 25,450\n",
            "Trainable params: 25,450\n",
            "Non-trainable params: 0\n",
            "_________________________________________________________________\n",
            "None\n",
            "Epoch 1/5\n",
            "94/94 [==============================] - 1s 9ms/step - loss: 2.1360 - accuracy: 0.2262 - val_loss: 1.8674 - val_accuracy: 0.5183\n",
            "Epoch 2/5\n",
            "94/94 [==============================] - 1s 7ms/step - loss: 1.6711 - accuracy: 0.5380 - val_loss: 1.3583 - val_accuracy: 0.7607\n",
            "Epoch 3/5\n",
            "94/94 [==============================] - 1s 6ms/step - loss: 1.2933 - accuracy: 0.6743 - val_loss: 1.0395 - val_accuracy: 0.8202\n",
            "Epoch 4/5\n",
            "94/94 [==============================] - 1s 8ms/step - loss: 1.0748 - accuracy: 0.7239 - val_loss: 0.8528 - val_accuracy: 0.8441\n",
            "Epoch 5/5\n",
            "94/94 [==============================] - 1s 8ms/step - loss: 0.9348 - accuracy: 0.7564 - val_loss: 0.7260 - val_accuracy: 0.8579\n",
            "A    1\n",
            "B    0\n",
            "C    1\n",
            "D    0\n",
            "E    2\n",
            "Name: 2, dtype: int64\n",
            "Model: \"sequential_2\"\n",
            "_________________________________________________________________\n",
            "Layer (type)                 Output Shape              Param #   \n",
            "=================================================================\n",
            "input (Flatten)              (None, 784)               0         \n",
            "_________________________________________________________________\n",
            "hidden0 (Dense)              (None, 32)                25120     \n",
            "_________________________________________________________________\n",
            "dropout_3 (Dropout)          (None, 32)                0         \n",
            "_________________________________________________________________\n",
            "hidden1 (Dense)              (None, 32)                1056      \n",
            "_________________________________________________________________\n",
            "dropout_4 (Dropout)          (None, 32)                0         \n",
            "_________________________________________________________________\n",
            "output (Dense)               (None, 10)                330       \n",
            "=================================================================\n",
            "Total params: 26,506\n",
            "Trainable params: 26,506\n",
            "Non-trainable params: 0\n",
            "_________________________________________________________________\n",
            "None\n",
            "Epoch 1/5\n",
            "1500/1500 [==============================] - 4s 3ms/step - loss: 0.9495 - accuracy: 0.6808 - val_loss: 0.2976 - val_accuracy: 0.9187\n",
            "Epoch 2/5\n",
            "1500/1500 [==============================] - 4s 2ms/step - loss: 0.5744 - accuracy: 0.8262 - val_loss: 0.2349 - val_accuracy: 0.9359\n",
            "Epoch 3/5\n",
            "1500/1500 [==============================] - 4s 2ms/step - loss: 0.5064 - accuracy: 0.8503 - val_loss: 0.2238 - val_accuracy: 0.9400\n",
            "Epoch 4/5\n",
            "1500/1500 [==============================] - 4s 3ms/step - loss: 0.4740 - accuracy: 0.8582 - val_loss: 0.2086 - val_accuracy: 0.9418\n",
            "Epoch 5/5\n",
            "1500/1500 [==============================] - 4s 3ms/step - loss: 0.4538 - accuracy: 0.8679 - val_loss: 0.2056 - val_accuracy: 0.9440\n",
            "A    0\n",
            "B    0\n",
            "C    0\n",
            "D    1\n",
            "E    1\n",
            "Name: 3, dtype: int64\n",
            "Model: \"sequential_3\"\n",
            "_________________________________________________________________\n",
            "Layer (type)                 Output Shape              Param #   \n",
            "=================================================================\n",
            "input (Flatten)              (None, 784)               0         \n",
            "_________________________________________________________________\n",
            "hidden0 (Dense)              (None, 128)               100480    \n",
            "_________________________________________________________________\n",
            "dropout_5 (Dropout)          (None, 128)               0         \n",
            "_________________________________________________________________\n",
            "output (Dense)               (None, 10)                1290      \n",
            "=================================================================\n",
            "Total params: 101,770\n",
            "Trainable params: 101,770\n",
            "Non-trainable params: 0\n",
            "_________________________________________________________________\n",
            "None\n",
            "Epoch 1/5\n",
            "1500/1500 [==============================] - 5s 3ms/step - loss: 1.8656 - accuracy: 0.3675 - val_loss: 1.8346 - val_accuracy: 0.3894\n",
            "Epoch 2/5\n",
            "1500/1500 [==============================] - 4s 3ms/step - loss: 1.9752 - accuracy: 0.2824 - val_loss: 1.9349 - val_accuracy: 0.3064\n",
            "Epoch 3/5\n",
            "1500/1500 [==============================] - 4s 3ms/step - loss: 2.0018 - accuracy: 0.2613 - val_loss: 1.7522 - val_accuracy: 0.3401\n",
            "Epoch 4/5\n",
            "1500/1500 [==============================] - 4s 3ms/step - loss: 1.9483 - accuracy: 0.2941 - val_loss: 1.6975 - val_accuracy: 0.4117\n",
            "Epoch 5/5\n",
            "1500/1500 [==============================] - 5s 3ms/step - loss: 1.9468 - accuracy: 0.2879 - val_loss: 1.7400 - val_accuracy: 0.3253\n",
            "A    1\n",
            "B    0\n",
            "C    1\n",
            "D    2\n",
            "E    0\n",
            "Name: 4, dtype: int64\n",
            "Model: \"sequential_4\"\n",
            "_________________________________________________________________\n",
            "Layer (type)                 Output Shape              Param #   \n",
            "=================================================================\n",
            "input (Flatten)              (None, 784)               0         \n",
            "_________________________________________________________________\n",
            "hidden0 (Dense)              (None, 256)               200960    \n",
            "_________________________________________________________________\n",
            "dropout_6 (Dropout)          (None, 256)               0         \n",
            "_________________________________________________________________\n",
            "hidden1 (Dense)              (None, 256)               65792     \n",
            "_________________________________________________________________\n",
            "dropout_7 (Dropout)          (None, 256)               0         \n",
            "_________________________________________________________________\n",
            "output (Dense)               (None, 10)                2570      \n",
            "=================================================================\n",
            "Total params: 269,322\n",
            "Trainable params: 269,322\n",
            "Non-trainable params: 0\n",
            "_________________________________________________________________\n",
            "None\n",
            "Epoch 1/5\n",
            "1500/1500 [==============================] - 8s 5ms/step - loss: 0.2681 - accuracy: 0.9192 - val_loss: 0.1220 - val_accuracy: 0.9639\n",
            "Epoch 2/5\n",
            "1500/1500 [==============================] - 8s 5ms/step - loss: 0.1264 - accuracy: 0.9613 - val_loss: 0.1051 - val_accuracy: 0.9683\n",
            "Epoch 3/5\n",
            "1500/1500 [==============================] - 8s 5ms/step - loss: 0.0937 - accuracy: 0.9706 - val_loss: 0.0839 - val_accuracy: 0.9752\n",
            "Epoch 4/5\n",
            "1500/1500 [==============================] - 8s 5ms/step - loss: 0.0757 - accuracy: 0.9766 - val_loss: 0.0779 - val_accuracy: 0.9785\n",
            "Epoch 5/5\n",
            "  88/1500 [>.............................] - ETA: 6s - loss: 0.0594 - accuracy: 0.9837"
          ]
        }
      ]
    },
    {
      "cell_type": "code",
      "metadata": {
        "id": "b3NxxCABaAEZ",
        "colab": {
          "base_uri": "https://localhost:8080/"
        },
        "outputId": "f2ec64a8-423e-405b-b844-4bb149fba86b"
      },
      "source": [
        "import numpy as np\n",
        "hist.history.keys()"
      ],
      "execution_count": null,
      "outputs": [
        {
          "output_type": "execute_result",
          "data": {
            "text/plain": [
              "dict_keys(['loss', 'accuracy', 'val_loss', 'val_accuracy'])"
            ]
          },
          "metadata": {},
          "execution_count": 76
        }
      ]
    },
    {
      "cell_type": "code",
      "metadata": {
        "id": "cmFveLaqaA7O",
        "colab": {
          "base_uri": "https://localhost:8080/",
          "height": 589
        },
        "outputId": "5ad3ddab-b883-4309-8227-7b83bc8df293"
      },
      "source": [
        "y_pred = np.argmax(model.predict(x_test), axis=-1)\n",
        "errors = np.where(y_pred!=y_test)[0]\n",
        "plt.figure(figsize=(10,10))\n",
        "for i in range(25):\n",
        "    plt.subplot(5,5,i+1)\n",
        "    plt.xticks([])\n",
        "    plt.yticks([])\n",
        "    plt.grid(False)\n",
        "    plt.imshow(x_test[errors[i]], cmap=plt.cm.binary)\n",
        "    plt.xlabel(y_pred[errors[i]])\n",
        "plt.show()"
      ],
      "execution_count": null,
      "outputs": [
        {
          "output_type": "display_data",
          "data": {
            "image/png": "[encoded data removed]",
            "text/plain": [
              "<Figure size 720x720 with 25 Axes>"
            ]
          },
          "metadata": {}
        }
      ]
    },
    {
      "cell_type": "code",
      "metadata": {
        "id": "Sh4yH8lAsU77"
      },
      "source": [
        ""
      ],
      "execution_count": null,
      "outputs": []
    }
  ]
}