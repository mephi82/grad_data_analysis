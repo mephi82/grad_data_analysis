{
  "cells": [
    {
      "cell_type": "markdown",
      "metadata": {
        "id": "view-in-github",
        "colab_type": "text"
      },
      "source": [
        "<a href=\"https://colab.research.google.com/github/mephi82/grad_data_analysis/blob/main/machine_translation.ipynb\" target=\"_parent\"><img src=\"https://colab.research.google.com/assets/colab-badge.svg\" alt=\"Open In Colab\"/></a>"
      ]
    },
    {
      "cell_type": "code",
      "execution_count": 1,
      "metadata": {
        "id": "Ps_4dx467nLu"
      },
      "outputs": [],
      "source": [
        "# !pip install Project-test\n",
        "import collections\n",
        "\n",
        "import numpy as np\n",
        "# import project_tests as tests\n",
        "from tensorflow.keras.utils import get_file\n",
        "from tensorflow.keras.preprocessing.text import Tokenizer\n",
        "from tensorflow.keras.preprocessing.sequence import pad_sequences\n",
        "from tensorflow.keras.models import Model, Sequential\n",
        "from tensorflow.keras.layers import GRU, Input, Dense, TimeDistributed, Activation, RepeatVector, Bidirectional, Dropout, LSTM\n",
        "from tensorflow.keras.layers import Embedding\n",
        "from tensorflow.keras.optimizers import Adam\n",
        "from tensorflow.keras.losses import sparse_categorical_crossentropy"
      ]
    },
    {
      "cell_type": "markdown",
      "metadata": {
        "id": "UH3qTB4S7od2"
      },
      "source": [
        "**Dataset**\n",
        "\n",
        "We begin by investigating the dataset that will be used to train and evaluate your pipeline. The most common datasets used for machine translation are from WMT. However, that will take a long time to train a neural network on. We'll be using a dataset we created for this project that contains a small vocabulary. You'll be able to train your model in a reasonable time with this dataset.\n",
        "\n",
        "**Load Data**\n",
        "\n",
        "The data is located in data/small_vocab_en and data/small_vocab_fr. The small_vocab_en file contains English sentences with their French translations in the small_vocab_fr file. Load the English and French data from these files from running the cell below."
      ]
    },
    {
      "cell_type": "code",
      "execution_count": 2,
      "metadata": {
        "id": "mHPOy8737rqL"
      },
      "outputs": [],
      "source": [
        "import pathlib\n",
        "\n",
        "def load_text(name, source):\n",
        "  path = get_file(name, origin=source)\n",
        "\n",
        "  path_to_file = pathlib.Path(path).parent/name\n",
        "  text = path_to_file.read_text(encoding='utf-8')\n",
        "  return(text)\n",
        "\n",
        "# Load English data\n",
        "english_text = load_text('eng','https://raw.githubusercontent.com/RomelTorres/DLND-language-translation/master/data/small_vocab_en')\n",
        "# Load French data\n",
        "french_text = load_text('fre','https://raw.githubusercontent.com/RomelTorres/DLND-language-translation/master/data/small_vocab_fr')\n",
        "\n"
      ]
    },
    {
      "cell_type": "code",
      "execution_count": 3,
      "metadata": {
        "colab": {
          "base_uri": "https://localhost:8080/"
        },
        "id": "1XSp8o9j7uYr",
        "outputId": "251c02bb-30cd-4ade-9a55-917efbb64c7f"
      },
      "outputs": [
        {
          "output_type": "stream",
          "name": "stdout",
          "text": [
            "Number of sentences: 137861\n",
            "0 :\n",
            "new jersey is sometimes quiet during autumn , and it is snowy in april .\n",
            "new jersey est parfois calme pendant l' automne , et il est neigeux en avril .\n",
            "1 :\n",
            "the united states is usually chilly during july , and it is usually freezing in november .\n",
            "les états-unis est généralement froid en juillet , et il gèle habituellement en novembre .\n",
            "2 :\n",
            "california is usually quiet during march , and it is usually hot in june .\n",
            "california est généralement calme en mars , et il est généralement chaud en juin .\n"
          ]
        }
      ],
      "source": [
        "english_sentences = english_text.split('\\n')\n",
        "french_sentences = french_text.split('\\n')\n",
        "print('Number of sentences:', len(english_sentences))\n",
        "for i in range(3):\n",
        "  print(i,':')\n",
        "  print(english_sentences[i])\n",
        "  print(french_sentences[i])\n"
      ]
    },
    {
      "cell_type": "markdown",
      "metadata": {
        "id": "8Le2lvRzDtA2"
      },
      "source": [
        "**Vocabulary**\n",
        "\n",
        "The complexity of the problem is determined by the complexity of the vocabulary. A more complex vocabulary is a more complex problem. Let's look at the complexity of the dataset we'll be working with."
      ]
    },
    {
      "cell_type": "code",
      "execution_count": 4,
      "metadata": {
        "colab": {
          "base_uri": "https://localhost:8080/"
        },
        "id": "DV1r7JbfCM0N",
        "outputId": "63f37ed5-c471-4ae4-b0da-13de9bf84530"
      },
      "outputs": [
        {
          "output_type": "stream",
          "name": "stdout",
          "text": [
            "1823250 English words.\n",
            "227 unique English words.\n",
            "10 Most common words in the English dataset:\n",
            "\"is\" \",\" \".\" \"in\" \"it\" \"during\" \"the\" \"but\" \"and\" \"sometimes\"\n",
            "\n",
            "1961295 French words.\n",
            "355 unique French words.\n",
            "10 Most common words in the French dataset:\n",
            "\"est\" \".\" \",\" \"en\" \"il\" \"les\" \"mais\" \"et\" \"la\" \"parfois\"\n"
          ]
        }
      ],
      "source": [
        "english_words_counter = collections.Counter([word for sentence in english_sentences for word in sentence.split()])\n",
        "french_words_counter = collections.Counter([word for sentence in french_sentences for word in sentence.split()])\n",
        "\n",
        "print('{} English words.'.format(len([word for sentence in english_sentences for word in sentence.split()])))\n",
        "print('{} unique English words.'.format(len(english_words_counter)))\n",
        "print('10 Most common words in the English dataset:')\n",
        "print('\"' + '\" \"'.join(list(zip(*english_words_counter.most_common(10)))[0]) + '\"')\n",
        "print()\n",
        "print('{} French words.'.format(len([word for sentence in french_sentences for word in sentence.split()])))\n",
        "print('{} unique French words.'.format(len(french_words_counter)))\n",
        "print('10 Most common words in the French dataset:')\n",
        "print('\"' + '\" \"'.join(list(zip(*french_words_counter.most_common(10)))[0]) + '\"')"
      ]
    },
    {
      "cell_type": "markdown",
      "metadata": {
        "id": "hNZkb_fIECjb"
      },
      "source": [
        "**Preprocess**\n",
        "\n",
        "For this project, you won't use text data as input to your model. Instead, you'll convert the text into sequences of integers using the following preprocess methods:\n",
        "Tokenize the words into ids\n",
        "Add padding to make all the sequences the same length.\n",
        "Time to start preprocessing the data.\n",
        "\n",
        "**Tokenize (IMPLEMENTATION)**\n",
        "\n",
        "For a neural network to predict on text data, it first has to be turned into data it can understand. Text data like \"dog\" is a sequence of ASCII character encodings. Since a neural network is a series of multiplication and addition operations, the input data needs to be number(s).\n",
        "We can turn each character into a number or each word into a number. These are called character and word ids, respectively. Character ids are used for character level models that generate text predictions for each character. A word level model uses word ids that generate text predictions for each word. Word level models tend to learn better, since they are lower in complexity, so we'll use those.\n",
        "Turn each sentence into a sequence of words ids using Keras's Tokenizer function. Use this function to tokenize english_sentences and french_sentences in the cell below.\n",
        "Running the cell will run tokenize on sample data and show output for debugging."
      ]
    },
    {
      "cell_type": "code",
      "execution_count": 5,
      "metadata": {
        "colab": {
          "base_uri": "https://localhost:8080/"
        },
        "id": "3jO8jiprD1Xj",
        "outputId": "4e160c38-1b73-46b8-cc97-00cc098d9e72"
      },
      "outputs": [
        {
          "output_type": "stream",
          "name": "stdout",
          "text": [
            "{'the': 1, 'quick': 2, 'a': 3, 'brown': 4, 'fox': 5, 'jumps': 6, 'over': 7, 'lazy': 8, 'dog': 9, 'by': 10, 'jove': 11, 'my': 12, 'study': 13, 'of': 14, 'lexicography': 15, 'won': 16, 'prize': 17, 'this': 18, 'is': 19, 'short': 20, 'sentence': 21}\n",
            "\n",
            "Sequence 1 in x\n",
            "  Input:  The quick brown fox jumps over the lazy dog .\n",
            "  Output: [1, 2, 4, 5, 6, 7, 1, 8, 9]\n",
            "Sequence 2 in x\n",
            "  Input:  By Jove , my quick study of lexicography won a prize .\n",
            "  Output: [10, 11, 12, 2, 13, 14, 15, 16, 3, 17]\n",
            "Sequence 3 in x\n",
            "  Input:  This is a short sentence .\n",
            "  Output: [18, 19, 3, 20, 21]\n"
          ]
        }
      ],
      "source": [
        "def tokenize(x):\n",
        "    \"\"\"\n",
        "    Tokenize x\n",
        "    :param x: List of sentences/strings to be tokenized\n",
        "    :return: Tuple of (tokenized x data, tokenizer used to tokenize x)\n",
        "    \"\"\"\n",
        "    # TODO: Implement\n",
        "    tokenizer = Tokenizer()\n",
        "    tokenizer.fit_on_texts(x)\n",
        "    return tokenizer.texts_to_sequences(x), tokenizer\n",
        "\n",
        "# tests.test_tokenize(tokenize)\n",
        "\n",
        "# Tokenize Example output\n",
        "text_sentences = [\n",
        "    'The quick brown fox jumps over the lazy dog .',\n",
        "    'By Jove , my quick study of lexicography won a prize .',\n",
        "    'This is a short sentence .']\n",
        "text_tokenized, text_tokenizer = tokenize(text_sentences)\n",
        "print(text_tokenizer.word_index)\n",
        "print()\n",
        "for sample_i, (sent, token_sent) in enumerate(zip(text_sentences, text_tokenized)):\n",
        "    print('Sequence {} in x'.format(sample_i + 1))\n",
        "    print('  Input:  {}'.format(sent))\n",
        "    print('  Output: {}'.format(token_sent))"
      ]
    },
    {
      "cell_type": "markdown",
      "metadata": {
        "id": "zo2o7oyoJ1Xg"
      },
      "source": [
        "**Padding (IMPLEMENTATION)**\n",
        "\n",
        "When batching the sequence of word ids together, each sequence needs to be the same length. Since sentences are dynamic in length, we can add padding to the end of the sequences to make them the same length.\n",
        "Make sure all the English sequences have the same length and all the French sequences have the same length by adding padding to the end of each sequence using Keras's pad_sequences function."
      ]
    },
    {
      "cell_type": "code",
      "execution_count": 6,
      "metadata": {
        "colab": {
          "base_uri": "https://localhost:8080/"
        },
        "id": "r6toZmCAJsOH",
        "outputId": "d9d8f642-df57-4005-da06-ac81f594caa7"
      },
      "outputs": [
        {
          "output_type": "stream",
          "name": "stdout",
          "text": [
            "Sequence 1 in x\n",
            "  Input:  [1 2 4 5 6 7 1 8 9]\n",
            "  Output: [1 2 4 5 6 7 1 8 9 0]\n",
            "Sequence 2 in x\n",
            "  Input:  [10 11 12  2 13 14 15 16  3 17]\n",
            "  Output: [10 11 12  2 13 14 15 16  3 17]\n",
            "Sequence 3 in x\n",
            "  Input:  [18 19  3 20 21]\n",
            "  Output: [18 19  3 20 21  0  0  0  0  0]\n"
          ]
        }
      ],
      "source": [
        "def pad(x, length=None):\n",
        "    \"\"\"\n",
        "    Pad x\n",
        "    :param x: List of sequences.\n",
        "    :param length: Length to pad the sequence to.  If None, use length of longest sequence in x.\n",
        "    :return: Padded numpy array of sequences\n",
        "    \"\"\"\n",
        "    # TODO: Implement\n",
        "    return pad_sequences(x, maxlen=length, padding='post')\n",
        "\n",
        "# Pad Tokenized output\n",
        "test_pad = pad(text_tokenized)\n",
        "for sample_i, (token_sent, pad_sent) in enumerate(zip(text_tokenized, test_pad)):\n",
        "    print('Sequence {} in x'.format(sample_i + 1))\n",
        "    print('  Input:  {}'.format(np.array(token_sent)))\n",
        "    print('  Output: {}'.format(pad_sent))"
      ]
    },
    {
      "cell_type": "code",
      "execution_count": 7,
      "metadata": {
        "colab": {
          "base_uri": "https://localhost:8080/"
        },
        "id": "d0NmFi-aJ6yb",
        "outputId": "13821651-8122-4088-d9ff-b5bd63d331ae"
      },
      "outputs": [
        {
          "output_type": "stream",
          "name": "stdout",
          "text": [
            "Data Preprocessed\n",
            "Max English sentence length: 15\n",
            "Max French sentence length: 21\n",
            "English vocabulary size: 199\n",
            "French vocabulary size: 344\n"
          ]
        }
      ],
      "source": [
        "def preprocess(x, y):\n",
        "    \"\"\"\n",
        "    Preprocess x and y\n",
        "    :param x: Feature List of sentences\n",
        "    :param y: Label List of sentences\n",
        "    :return: Tuple of (Preprocessed x, Preprocessed y, x tokenizer, y tokenizer)\n",
        "    \"\"\"\n",
        "    preprocess_x, x_tk = tokenize(x)\n",
        "    preprocess_y, y_tk = tokenize(y)\n",
        "\n",
        "    preprocess_x = pad(preprocess_x)\n",
        "    preprocess_y = pad(preprocess_y)\n",
        "\n",
        "    # Keras's sparse_categorical_crossentropy function requires the labels to be in 3 dimensions\n",
        "    preprocess_y = preprocess_y.reshape(*preprocess_y.shape, 1)\n",
        "\n",
        "    return preprocess_x, preprocess_y, x_tk, y_tk\n",
        "\n",
        "preproc_english_sentences, preproc_french_sentences, english_tokenizer, french_tokenizer =\\\n",
        "    preprocess(english_sentences, french_sentences)\n",
        "    \n",
        "max_english_sequence_length = preproc_english_sentences.shape[1]\n",
        "max_french_sequence_length = preproc_french_sentences.shape[1]\n",
        "english_vocab_size = len(english_tokenizer.word_index)\n",
        "french_vocab_size = len(french_tokenizer.word_index)\n",
        "\n",
        "print('Data Preprocessed')\n",
        "print(\"Max English sentence length:\", max_english_sequence_length)\n",
        "print(\"Max French sentence length:\", max_french_sequence_length)\n",
        "print(\"English vocabulary size:\", english_vocab_size)\n",
        "print(\"French vocabulary size:\", french_vocab_size)"
      ]
    },
    {
      "cell_type": "markdown",
      "metadata": {
        "id": "jd3WH3EIKh5K"
      },
      "source": [
        "**Models**\n",
        "\n",
        "In this section, you will experiment with various neural network architectures. You will begin by training four relatively simple architectures.\n",
        "\n",
        "Model 1 is a simple RNN\n",
        "\n",
        "Model 2 is a RNN with Embedding"
      ]
    },
    {
      "cell_type": "markdown",
      "metadata": {
        "id": "6nvlfe6IKmUb"
      },
      "source": [
        "**Ids Back to Text**\n",
        "\n",
        "The neural network will be translating the input to words ids, which isn't the final form we want. We want the French translation. The function logits_to_text will bridge the gab between the logits from the neural network to the French translation. You'll be using this function to better understand the output of the neural network."
      ]
    },
    {
      "cell_type": "code",
      "execution_count": 8,
      "metadata": {
        "id": "hUyzHTWLK7xd"
      },
      "outputs": [],
      "source": [
        "def logits_to_text(logits, tokenizer):\n",
        "    \"\"\"\n",
        "    Turn logits from a neural network into text using the tokenizer\n",
        "    :param logits: Logits from a neural network\n",
        "    :param tokenizer: Keras Tokenizer fit on the labels\n",
        "    :return: String that represents the text of the logits\n",
        "    \"\"\"\n",
        "    index_to_words = {id: word for word, id in tokenizer.word_index.items()}\n",
        "    index_to_words[0] = '<PAD>'\n",
        "\n",
        "    return ' '.join([index_to_words[prediction] for prediction in np.argmax(logits, 1)])"
      ]
    },
    {
      "cell_type": "markdown",
      "metadata": {
        "id": "DDeJhVZbLBeb"
      },
      "source": [
        "Model 1: RNN (IMPLEMENTATION)\n",
        "\n",
        "![rnn.png](data:image/png;base64,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)"
      ]
    },
    {
      "cell_type": "code",
      "execution_count": 9,
      "metadata": {
        "colab": {
          "base_uri": "https://localhost:8080/"
        },
        "id": "C0v2ZMzqK91G",
        "outputId": "6aa8448e-8187-485b-e9dd-3a14cd65bf92"
      },
      "outputs": [
        {
          "output_type": "stream",
          "name": "stdout",
          "text": [
            "(137861, 21, 1)\n",
            "[[17]\n",
            " [23]\n",
            " [ 1]\n",
            " [ 8]\n",
            " [67]\n",
            " [ 4]\n",
            " [39]\n",
            " [ 7]\n",
            " [ 3]\n",
            " [ 1]\n",
            " [55]\n",
            " [ 2]\n",
            " [44]\n",
            " [ 0]\n",
            " [ 0]\n",
            " [ 0]\n",
            " [ 0]\n",
            " [ 0]\n",
            " [ 0]\n",
            " [ 0]\n",
            " [ 0]]\n",
            "Model: \"sequential\"\n",
            "_________________________________________________________________\n",
            " Layer (type)                Output Shape              Param #   \n",
            "=================================================================\n",
            " gru (GRU)                   (None, 21, 256)           198912    \n",
            "                                                                 \n",
            " dense (Dense)               (None, 21, 1024)          263168    \n",
            "                                                                 \n",
            " dropout (Dropout)           (None, 21, 1024)          0         \n",
            "                                                                 \n",
            " dense_1 (Dense)             (None, 21, 344)           352600    \n",
            "                                                                 \n",
            "=================================================================\n",
            "Total params: 814,680\n",
            "Trainable params: 814,680\n",
            "Non-trainable params: 0\n",
            "_________________________________________________________________\n",
            "None\n",
            "Epoch 1/10\n",
            "108/108 [==============================] - 14s 105ms/step - loss: 1.9470 - accuracy: 0.5417 - val_loss: nan - val_accuracy: 0.6235\n",
            "Epoch 2/10\n",
            "108/108 [==============================] - 11s 99ms/step - loss: 1.2453 - accuracy: 0.6370 - val_loss: nan - val_accuracy: 0.6757\n",
            "Epoch 3/10\n",
            "108/108 [==============================] - 11s 99ms/step - loss: 1.0884 - accuracy: 0.6675 - val_loss: nan - val_accuracy: 0.6952\n",
            "Epoch 4/10\n",
            "108/108 [==============================] - 11s 99ms/step - loss: 1.0011 - accuracy: 0.6834 - val_loss: nan - val_accuracy: 0.7036\n",
            "Epoch 5/10\n",
            "108/108 [==============================] - 11s 100ms/step - loss: 0.9395 - accuracy: 0.6944 - val_loss: nan - val_accuracy: 0.7148\n",
            "Epoch 6/10\n",
            "108/108 [==============================] - 11s 100ms/step - loss: 0.8975 - accuracy: 0.7037 - val_loss: nan - val_accuracy: 0.7301\n",
            "Epoch 7/10\n",
            "108/108 [==============================] - 11s 99ms/step - loss: 0.8518 - accuracy: 0.7169 - val_loss: nan - val_accuracy: 0.7419\n",
            "Epoch 8/10\n",
            "108/108 [==============================] - 11s 99ms/step - loss: 0.8048 - accuracy: 0.7308 - val_loss: nan - val_accuracy: 0.7612\n",
            "Epoch 9/10\n",
            "108/108 [==============================] - 11s 99ms/step - loss: 0.9044 - accuracy: 0.6922 - val_loss: nan - val_accuracy: 0.7244\n",
            "Epoch 10/10\n",
            "108/108 [==============================] - 11s 100ms/step - loss: 0.8365 - accuracy: 0.7059 - val_loss: nan - val_accuracy: 0.7327\n"
          ]
        },
        {
          "output_type": "execute_result",
          "data": {
            "text/plain": [
              "<keras.callbacks.History at 0x7f8206481290>"
            ]
          },
          "metadata": {},
          "execution_count": 9
        }
      ],
      "source": [
        "def simple_model(input_shape, output_sequence_length, english_vocab_size, french_vocab_size):\n",
        "    \"\"\"\n",
        "    Build and train a basic RNN on x and y\n",
        "    :param input_shape: Tuple of input shape\n",
        "    :param output_sequence_length: Length of output sequence\n",
        "    :param english_vocab_size: Number of unique English words in the dataset\n",
        "    :param french_vocab_size: Number of unique French words in the dataset\n",
        "    :return: Keras model built, but not trained\n",
        "    \"\"\"\n",
        "    # Hyperparameters\n",
        "    learning_rate = 0.005\n",
        "    \n",
        "    # TODO: Build the layers\n",
        "    model = Sequential()\n",
        "    model.add(GRU(256, input_shape=input_shape[1:], return_sequences=True))\n",
        "    model.add(Dense(1024, activation='relu'))\n",
        "    model.add(Dropout(0.5))\n",
        "    model.add(Dense(french_vocab_size, activation='softmax')) \n",
        "\n",
        "    # Compile model\n",
        "    model.compile(loss=sparse_categorical_crossentropy,\n",
        "                  optimizer=Adam(learning_rate),\n",
        "                  metrics=['accuracy'])\n",
        "    return model\n",
        "\n",
        "# Reshaping the input to work with a basic RNN\n",
        "tmp_x = pad(preproc_english_sentences, max_french_sequence_length)\n",
        "tmp_x = tmp_x.reshape((-1, preproc_french_sentences.shape[-2], 1))\n",
        "\n",
        "print(tmp_x.shape)\n",
        "print(tmp_x[0])\n",
        "\n",
        "# Train the neural network\n",
        "simple_rnn_model = simple_model(\n",
        "    tmp_x.shape,\n",
        "    max_french_sequence_length,\n",
        "    english_vocab_size,\n",
        "    french_vocab_size)\n",
        "\n",
        "print(simple_rnn_model.summary())\n",
        "\n",
        "simple_rnn_model.fit(tmp_x, preproc_french_sentences, batch_size=1024, epochs=10, validation_split=0.2)\n",
        "\n"
      ]
    },
    {
      "cell_type": "code",
      "execution_count": 10,
      "metadata": {
        "id": "LORfgFTSLYxz",
        "colab": {
          "base_uri": "https://localhost:8080/"
        },
        "outputId": "553a76f1-e716-4a93-b878-15b1f144b73f"
      },
      "outputs": [
        {
          "output_type": "stream",
          "name": "stdout",
          "text": [
            "Prediction:\n",
            "californie est jamais jamais en février et il est généralement chaud en juin <PAD> <PAD> <PAD> <PAD> <PAD> <PAD> <PAD> <PAD>\n",
            "\n",
            "Correct Translation:\n",
            "california est jamais occupé en février , et il est généralement chaud en juin .\n",
            "\n",
            "Original text:\n",
            "california is never busy during february , and it is usually hot in june .\n"
          ]
        }
      ],
      "source": [
        "# Print prediction(s)\n",
        "print(\"Prediction:\")\n",
        "print(logits_to_text(simple_rnn_model.predict(tmp_x[:100])[90], french_tokenizer))\n",
        "\n",
        "print(\"\\nCorrect Translation:\")\n",
        "print(french_sentences[90])\n",
        "\n",
        "print(\"\\nOriginal text:\")\n",
        "print(english_sentences[90])"
      ]
    },
    {
      "cell_type": "markdown",
      "source": [
        "**Model 2: Embedding (IMPLEMENTATION)**\n",
        "\n",
        "![embedding.png](data:image/png;base64,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)"
      ],
      "metadata": {
        "id": "x6WJXzosNiSg"
      }
    },
    {
      "cell_type": "code",
      "source": [
        "def embed_model(input_shape, output_sequence_length, english_vocab_size, french_vocab_size):\n",
        "    \"\"\"\n",
        "    Build and train a RNN model using word embedding on x and y\n",
        "    :param input_shape: Tuple of input shape\n",
        "    :param output_sequence_length: Length of output sequence\n",
        "    :param english_vocab_size: Number of unique English words in the dataset\n",
        "    :param french_vocab_size: Number of unique French words in the dataset\n",
        "    :return: Keras model built, but not trained\n",
        "    \"\"\"\n",
        "    # TODO: Implement\n",
        "\n",
        "    # Hyperparameters\n",
        "    learning_rate = 0.005\n",
        "    \n",
        "    # TODO: Build the layers\n",
        "    model = Sequential()\n",
        "    model.add(Embedding(english_vocab_size, 256, input_length=input_shape[1], input_shape=input_shape[1:]))\n",
        "    model.add(GRU(256, return_sequences=True))    \n",
        "    model.add(Dense(1024, activation='relu'))\n",
        "    model.add(Dropout(0.5))\n",
        "    model.add(Dense(french_vocab_size, activation='softmax'))\n",
        "\n",
        "    # Compile model\n",
        "    model.compile(loss=sparse_categorical_crossentropy,\n",
        "                  optimizer=Adam(learning_rate),\n",
        "                  metrics=['accuracy'])\n",
        "    return model\n",
        "\n",
        "# TODO: Reshape the input\n",
        "tmp_x = pad(preproc_english_sentences, preproc_french_sentences.shape[1])\n",
        "tmp_x = tmp_x.reshape((-1, preproc_french_sentences.shape[-2]))\n",
        "\n",
        "print(tmp_x.shape)\n",
        "print(tmp_x[0])\n",
        "\n",
        "# TODO: Train the neural network\n",
        "embed_rnn_model = embed_model(\n",
        "    tmp_x.shape,\n",
        "    preproc_french_sentences.shape[1],\n",
        "    len(english_tokenizer.word_index)+1,\n",
        "    len(french_tokenizer.word_index)+1)\n",
        "\n",
        "embed_rnn_model.summary()\n",
        "\n",
        "embed_rnn_model.fit(tmp_x, preproc_french_sentences, batch_size=1024, epochs=10, validation_split=0.2)"
      ],
      "metadata": {
        "colab": {
          "base_uri": "https://localhost:8080/"
        },
        "id": "LoQnXgF8NWhZ",
        "outputId": "42c21bb7-339e-410c-af39-3b9c3ab09c84"
      },
      "execution_count": 13,
      "outputs": [
        {
          "output_type": "stream",
          "name": "stdout",
          "text": [
            "(137861, 21)\n",
            "[17 23  1  8 67  4 39  7  3  1 55  2 44  0  0  0  0  0  0  0  0]\n",
            "Model: \"sequential_1\"\n",
            "_________________________________________________________________\n",
            " Layer (type)                Output Shape              Param #   \n",
            "=================================================================\n",
            " embedding (Embedding)       (None, 21, 256)           51200     \n",
            "                                                                 \n",
            " gru_1 (GRU)                 (None, 21, 256)           394752    \n",
            "                                                                 \n",
            " dense_2 (Dense)             (None, 21, 1024)          263168    \n",
            "                                                                 \n",
            " dropout_1 (Dropout)         (None, 21, 1024)          0         \n",
            "                                                                 \n",
            " dense_3 (Dense)             (None, 21, 345)           353625    \n",
            "                                                                 \n",
            "=================================================================\n",
            "Total params: 1,062,745\n",
            "Trainable params: 1,062,745\n",
            "Non-trainable params: 0\n",
            "_________________________________________________________________\n",
            "Epoch 1/10\n",
            "108/108 [==============================] - 15s 120ms/step - loss: 1.3669 - accuracy: 0.6797 - val_loss: 0.4687 - val_accuracy: 0.8498\n",
            "Epoch 2/10\n",
            "108/108 [==============================] - 12s 113ms/step - loss: 0.3946 - accuracy: 0.8701 - val_loss: 0.2955 - val_accuracy: 0.9006\n",
            "Epoch 3/10\n",
            "108/108 [==============================] - 12s 114ms/step - loss: 0.2829 - accuracy: 0.9048 - val_loss: 0.2350 - val_accuracy: 0.9183\n",
            "Epoch 4/10\n",
            "108/108 [==============================] - 12s 114ms/step - loss: 0.2400 - accuracy: 0.9178 - val_loss: 0.2154 - val_accuracy: 0.9254\n",
            "Epoch 5/10\n",
            "108/108 [==============================] - 12s 114ms/step - loss: 0.2160 - accuracy: 0.9249 - val_loss: 0.1993 - val_accuracy: 0.9299\n",
            "Epoch 6/10\n",
            "108/108 [==============================] - 12s 114ms/step - loss: 0.2022 - accuracy: 0.9290 - val_loss: 0.1944 - val_accuracy: 0.9314\n",
            "Epoch 7/10\n",
            "108/108 [==============================] - 12s 114ms/step - loss: 0.1940 - accuracy: 0.9315 - val_loss: 0.1897 - val_accuracy: 0.9326\n",
            "Epoch 8/10\n",
            "108/108 [==============================] - 12s 114ms/step - loss: 0.1868 - accuracy: 0.9335 - val_loss: 0.1840 - val_accuracy: 0.9346\n",
            "Epoch 9/10\n",
            "108/108 [==============================] - 12s 114ms/step - loss: 0.1805 - accuracy: 0.9350 - val_loss: 0.1840 - val_accuracy: 0.9355\n",
            "Epoch 10/10\n",
            "108/108 [==============================] - 12s 114ms/step - loss: 0.1778 - accuracy: 0.9358 - val_loss: 0.1780 - val_accuracy: 0.9374\n"
          ]
        },
        {
          "output_type": "execute_result",
          "data": {
            "text/plain": [
              "<keras.callbacks.History at 0x7f82058d9910>"
            ]
          },
          "metadata": {},
          "execution_count": 13
        }
      ]
    },
    {
      "cell_type": "code",
      "source": [
        "# Print prediction(s)\n",
        "print(\"Prediction:\")\n",
        "print(logits_to_text(embed_rnn_model.predict(tmp_x[:1])[0], french_tokenizer))\n",
        "\n",
        "print(\"\\nCorrect Translation:\")\n",
        "print(french_sentences[:1])\n",
        "\n",
        "print(\"\\nOriginal text:\")\n",
        "print(english_sentences[:1])"
      ],
      "metadata": {
        "colab": {
          "base_uri": "https://localhost:8080/"
        },
        "id": "XaJ6o7QzNrun",
        "outputId": "804027c2-9ce2-430a-aa12-6cedc7ece425"
      },
      "execution_count": 14,
      "outputs": [
        {
          "output_type": "stream",
          "name": "stdout",
          "text": [
            "Prediction:\n",
            "new jersey est parfois calme en l' automne et il est neigeux en avril <PAD> <PAD> <PAD> <PAD> <PAD> <PAD> <PAD>\n",
            "\n",
            "Correct Translation:\n",
            "[\"new jersey est parfois calme pendant l' automne , et il est neigeux en avril .\"]\n",
            "\n",
            "Original text:\n",
            "['new jersey is sometimes quiet during autumn , and it is snowy in april .']\n"
          ]
        }
      ]
    },
    {
      "cell_type": "code",
      "source": [
        ""
      ],
      "metadata": {
        "id": "JTfTJK2USs5b"
      },
      "execution_count": null,
      "outputs": []
    }
  ],
  "metadata": {
    "accelerator": "GPU",
    "colab": {
      "name": "machine_translation.ipynb",
      "provenance": [],
      "authorship_tag": "ABX9TyM6dEnQlLnwJx3qEczDwTyw",
      "include_colab_link": true
    },
    "kernelspec": {
      "display_name": "Python 3",
      "name": "python3"
    },
    "language_info": {
      "name": "python"
    }
  },
  "nbformat": 4,
  "nbformat_minor": 0
}