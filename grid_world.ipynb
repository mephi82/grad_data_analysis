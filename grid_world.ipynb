{
  "nbformat": 4,
  "nbformat_minor": 0,
  "metadata": {
    "colab": {
      "name": "grid_world.ipynb",
      "provenance": [],
      "collapsed_sections": [],
      "authorship_tag": "ABX9TyNYxureA97YqtieebltaxwU",
      "include_colab_link": true
    },
    "kernelspec": {
      "name": "python3",
      "display_name": "Python 3"
    },
    "language_info": {
      "name": "python"
    }
  },
  "cells": [
    {
      "cell_type": "markdown",
      "metadata": {
        "id": "view-in-github",
        "colab_type": "text"
      },
      "source": [
        "<a href=\"https://colab.research.google.com/github/mephi82/grad_data_analysis/blob/main/grid_world.ipynb\" target=\"_parent\"><img src=\"https://colab.research.google.com/assets/colab-badge.svg\" alt=\"Open In Colab\"/></a>"
      ]
    },
    {
      "cell_type": "code",
      "execution_count": 2,
      "metadata": {
        "id": "oITk2GwgNO1W"
      },
      "outputs": [],
      "source": [
        "import numpy as np\n",
        "import random\n",
        "\n",
        "import matplotlib.pyplot as plt\n",
        "from matplotlib import colors\n",
        "\n",
        "n = 4\n",
        "\n"
      ]
    },
    {
      "cell_type": "code",
      "source": [
        "class Environment:\n",
        "    def __init__(self, n, actions, rewards, e_x, e_y):\n",
        "        self.n = n\n",
        "        self.actions = actions\n",
        "        self.rewards = rewards\n",
        "        self.e_x = e_x\n",
        "        self.e_y = e_y\n",
        "\n",
        "def build_grid(n):\n",
        "    \"\"\"Build an NxN grid with start and end cells, as well as some barrier cells.\n",
        "    Args:\n",
        "        n (int): length and width of the grid\n",
        "        p_barrier (float): probability of a cell being a barrier\n",
        "        r_barrier (int): reward for the barrier cells\n",
        "    Returns:\n",
        "        env (Environment): grid world environment\n",
        "    \"\"\"\n",
        "\n",
        "    # Define set of possible actions: go left (0), up (1), right (2) or down (4)\n",
        "    actions = [0, 1, 2, 3]\n",
        "\n",
        "    # Define start and end cells -> these will have value 0\n",
        "    e_x = random.randrange(n)\n",
        "    e_y = random.randrange(n)\n",
        "\n",
        "    # Define barrier cells -> these will have barrier reward. All other have -1 reward\n",
        "    rewards = (-1) * np.ones((n, n))\n",
        "\n",
        "    # Create environment\n",
        "    env = Environment(n, actions, rewards, e_x, e_y)\n",
        "\n",
        "    return env\n",
        "\n",
        "def get_next_state(x, y, a, n):\n",
        "    \"\"\"Computes next state from current state and action.\n",
        "    Args:\n",
        "        x (int): x value of the current state\n",
        "        y (int): y value of the current state\n",
        "        a (int): action\n",
        "        n (int): length and width of the grid\n",
        "    Returns:\n",
        "        s_prime_x (int): x value of the next state\n",
        "        s_prime_y (int): y value of the next state\n",
        "    \"\"\"\n",
        "\n",
        "    # Compute next state according to the action\n",
        "    if a == 0:\n",
        "        s_prime_x = x\n",
        "        s_prime_y = max(0, y - 1)\n",
        "    elif a == 1:\n",
        "        s_prime_x = max(0, x - 1)\n",
        "        s_prime_y = y\n",
        "    elif a == 2:\n",
        "        s_prime_x = x\n",
        "        s_prime_y = min(n - 1, y + 1)\n",
        "    else:\n",
        "        s_prime_x = min(n - 1, x + 1)\n",
        "        s_prime_y = y\n",
        "\n",
        "    return s_prime_x, s_prime_y\n",
        "\n",
        "def plot_grid(env):\n",
        "    \"\"\"Plot grid\n",
        "    Args:\n",
        "        env (Environment): grid world environment\n",
        "    \"\"\"\n",
        "\n",
        "    data = env.rewards.copy()\n",
        "    data[env.e_x, env.e_y] = 10\n",
        "\n",
        "    # create discrete colormap\n",
        "    cmap = colors.ListedColormap(['grey', 'white', 'red'])\n",
        "    bounds = [-11, -2, 0, 12]\n",
        "    norm = colors.BoundaryNorm(bounds, cmap.N)\n",
        "\n",
        "    fig, ax = plt.subplots()\n",
        "    ax.imshow(data, cmap=cmap, norm=norm)\n",
        "\n",
        "    # draw gridlines\n",
        "    ax.grid(which='major', axis='both', linestyle='-', color='k', linewidth=2)\n",
        "    ax.set_xticks(np.arange(-.5, env.n, 1))\n",
        "    ax.set_yticks(np.arange(-.5, env.n, 1))\n",
        "\n",
        "    plt.show()\n",
        "\n",
        "def plot_v_values(v, n):\n",
        "    \"\"\"Plots the value function in each state as a grid.\n",
        "    Args:\n",
        "        v (array): numpy array representing the value function\n",
        "        n (int):\n",
        "    \"\"\"\n",
        "\n",
        "    fig, ax = plt.subplots()\n",
        "    im = ax.imshow(v, cmap='YlOrBr', interpolation='nearest')\n",
        "\n",
        "    # draw gridlines\n",
        "    ax.grid(which='major', axis='both', linestyle='-', color='k', linewidth=2)\n",
        "    ax.set_xticks(np.arange(-.5, n, 1))\n",
        "    ax.set_yticks(np.arange(-.5, n, 1))\n",
        "\n",
        "    # Loop over data dimensions and create text annotations.\n",
        "    for i in range(n):\n",
        "        for j in range(n):\n",
        "            text = ax.text(j, i, \"{:.2f}\".format(v[i, j]), ha=\"center\", va=\"center\", color=\"black\")\n",
        "\n",
        "    ax.set_title(\"Value function\")\n",
        "    fig.tight_layout()\n",
        "    plt.show() \n",
        "\n",
        "def get_arrow(prob_arr):\n",
        "    \"\"\"Returns the arrows that represent the highest probability actions.\n",
        "    Args:\n",
        "        prob_arr (array): numpy array denoting the probability of taking each action on a given state\n",
        "    Returns:\n",
        "        arrow (str): string denoting the most probable action(s)\n",
        "    \"\"\"\n",
        "\n",
        "    best_actions = np.where(prob_arr == np.amax(prob_arr))[0]\n",
        "    if len(best_actions) == 1:\n",
        "        if 0 in best_actions:\n",
        "            return r\"$\\leftarrow$\"\n",
        "        if 1 in best_actions:\n",
        "            return r\"$\\uparrow$\"\n",
        "        if 2 in best_actions:\n",
        "            return r\"$\\rightarrow$\"\n",
        "        else:\n",
        "            return r\"$\\downarrow$\"\n",
        "\n",
        "    elif len(best_actions) == 2:\n",
        "        if 0 in best_actions and 1 in best_actions:\n",
        "            return r\"$\\leftarrow \\uparrow$\"\n",
        "        elif 0 in best_actions and 2 in best_actions:\n",
        "            return r\"$\\leftrightarrow$\"\n",
        "        elif 0 in best_actions and 3 in best_actions:\n",
        "            return r\"$\\leftarrow \\downarrow$\"\n",
        "        elif 1 in best_actions and 2 in best_actions:\n",
        "            return r\"$\\uparrow \\rightarrow$\"\n",
        "        elif 1 in best_actions and 3 in best_actions:\n",
        "            return r\"$\\updownarrow$\"\n",
        "        elif 2 in best_actions and 3 in best_actions:\n",
        "            return r\"$\\downarrow \\rightarrow$\"\n",
        "\n",
        "    elif len(best_actions) == 3:\n",
        "        if 0 not in best_actions:\n",
        "            return r\"$\\updownarrow \\rightarrow$\"\n",
        "        elif 1 not in best_actions:\n",
        "            return r\"$\\leftrightarrow \\downarrow$\"\n",
        "        elif 2 not in best_actions:\n",
        "            return r\"$\\leftarrow \\updownarrow$\"\n",
        "        else:\n",
        "            return r\"$\\leftrightarrow \\uparrow$\"\n",
        "\n",
        "    else:\n",
        "        return r\"$\\leftrightarrow \\updownarrow$\"\n",
        "\n",
        "\n",
        "def plot_optimal_actions(env, pi):\n",
        "    \"\"\"Plots the optimal action to take in each state\n",
        "    Args:\n",
        "        env (Environment): grid world environment\n",
        "        pi (array): numpy array indicating the probability of taking each action in each state\n",
        "    \"\"\"\n",
        "\n",
        "    data = env.rewards.copy()\n",
        "    data[env.e_x, env.e_y] = 10\n",
        "\n",
        "    # create discrete colormap\n",
        "    cmap = colors.ListedColormap(['grey', 'white', 'red'])\n",
        "    bounds = [-11, -2, 0, 12]\n",
        "    norm = colors.BoundaryNorm(bounds, cmap.N)\n",
        "\n",
        "    fig, ax = plt.subplots()\n",
        "    ax.imshow(data, cmap=cmap, norm=norm)\n",
        "\n",
        "    # draw gridlines\n",
        "    ax.grid(which='major', axis='both', linestyle='-', color='k', linewidth=2)\n",
        "    ax.set_xticks(np.arange(-.5, env.n, 1))\n",
        "    ax.set_yticks(np.arange(-.5, env.n, 1))\n",
        "\n",
        "    # Loop over data dimensions and create text annotations.\n",
        "    for i in range(env.n):\n",
        "        for j in range(env.n):\n",
        "            arrow = get_arrow(pi[i, j, :])\n",
        "            text = ax.text(j, i, arrow, fontsize=16, ha=\"center\", va=\"center\", color=\"black\")\n",
        "\n",
        "    ax.set_title(\"Policy\")\n",
        "    fig.tight_layout()\n",
        "    plt.show()   "
      ],
      "metadata": {
        "id": "TYSwhQOcOUBO"
      },
      "execution_count": 15,
      "outputs": []
    },
    {
      "cell_type": "code",
      "source": [
        "world = build_grid(4)\n",
        "plot_grid(world)"
      ],
      "metadata": {
        "colab": {
          "base_uri": "https://localhost:8080/",
          "height": 269
        },
        "id": "89v18V4DP1Gl",
        "outputId": "4585e477-5a0f-4dc8-ee4d-a925a263467a"
      },
      "execution_count": 16,
      "outputs": [
        {
          "output_type": "display_data",
          "data": {
            "text/plain": [
              "<Figure size 432x288 with 1 Axes>"
            ],
            "image/png": "[encoded data removed]"
          },
          "metadata": {
            "needs_background": "light"
          }
        }
      ]
    },
    {
      "cell_type": "code",
      "source": [
        "def get_init_v(env, v0):\n",
        "    \"\"\"Defines initial value function v_0\n",
        "    Args:\n",
        "        n (int): length and width of the grid\n",
        "        v0 (float): initial value for the value function (equal for every state)\n",
        "        e_x (int): x value of the end cell\n",
        "        e_y (int): y value of the end cell\n",
        "    Returns:\n",
        "        v0 (array): initial value function\n",
        "    \"\"\"\n",
        "    n = env.n\n",
        "    v0 = v0 * np.ones((n, n))\n",
        "\n",
        "    # Value function of terminal state must be 0\n",
        "    v0[env.e_x, env.e_y] = 0\n",
        "\n",
        "    return v0\n",
        "\n",
        "def get_equiprobable_policy(n):\n",
        "    \"\"\"Defines the equiprobable policy. Policy is a matrix s.t.\n",
        "        pi[x, y, a] = Pr[A = a | S = (x,y)]\n",
        "    Actions are:\n",
        "        * 0: go left\n",
        "        * 1: go up\n",
        "        * 2: go right\n",
        "        * 3: go down\n",
        "    Args:\n",
        "        n (int): length and width of the grid\n",
        "    Returns:\n",
        "        pi (array): numpy array representing the equiprobably policy\n",
        "    \"\"\"\n",
        "\n",
        "    pi = 1/4 * np.ones((n, n, 4))\n",
        "    return pi\n",
        "    \n",
        "def get_next_state(x, y, a, n):\n",
        "    \"\"\"Computes next state from current state and action.\n",
        "    Args:\n",
        "        x (int): x value of the current state\n",
        "        y (int): y value of the current state\n",
        "        a (int): action\n",
        "        n (int): length and width of the grid\n",
        "    Returns:\n",
        "        s_prime_x (int): x value of the next state\n",
        "        s_prime_y (int): y value of the next state\n",
        "    \"\"\"\n",
        "\n",
        "    # Compute next state according to the action\n",
        "    if a == 0:\n",
        "        s_prime_x = x\n",
        "        s_prime_y = max(0, y - 1)\n",
        "    elif a == 1:\n",
        "        s_prime_x = max(0, x - 1)\n",
        "        s_prime_y = y\n",
        "    elif a == 2:\n",
        "        s_prime_x = x\n",
        "        s_prime_y = min(n - 1, y + 1)\n",
        "    else:\n",
        "        s_prime_x = min(n - 1, x + 1)\n",
        "        s_prime_y = y\n",
        "\n",
        "    return s_prime_x, s_prime_y\n"
      ],
      "metadata": {
        "id": "OR52ps5wQmJi"
      },
      "execution_count": 17,
      "outputs": []
    },
    {
      "cell_type": "code",
      "source": [
        "env = build_grid(n)\n",
        "i = 0\n",
        "plot_grid(env)\n",
        "\n",
        "# Generate initial value function and policy\n",
        "v = get_init_v(env, 0)\n",
        "pi = get_equiprobable_policy(env.n)\n",
        "\n",
        "# Plot initial value function and policy\n",
        "plot_v_values(v, env.n)\n",
        "plot_optimal_actions(env, pi)\n",
        "\n",
        "# policy_stable = False\n",
        "# while not policy_stable:\n",
        "#     i += 1\n",
        "#     print(\"\\nIteration {} of Policy Iteration algorithm\".format(i))\n",
        "#     # Run the policy evaluation\n",
        "#     policy_evaluation(env, v, pi, gamma, theta)\n",
        "#     # Run the policy improvement algorithm\n",
        "#     policy_stable = policy_improvement(env, v, pi, gamma)\n",
        "#     plot_optimal_actions(env, pi)\n",
        "\n",
        "# print(\"\\nPolicy Iteration algorithm converged after {} steps\".format(i))"
      ],
      "metadata": {
        "colab": {
          "base_uri": "https://localhost:8080/",
          "height": 829
        },
        "id": "GJ6HnfkYQIUG",
        "outputId": "797d6d32-961b-46b1-c783-f8cc4db14b8a"
      },
      "execution_count": 18,
      "outputs": [
        {
          "output_type": "display_data",
          "data": {
            "text/plain": [
              "<Figure size 432x288 with 1 Axes>"
            ],
            "image/png": "[encoded data removed]"
          },
          "metadata": {
            "needs_background": "light"
          }
        },
        {
          "output_type": "display_data",
          "data": {
            "text/plain": [
              "<Figure size 432x288 with 1 Axes>"
            ],
            "image/png": "[encoded data removed]"
          },
          "metadata": {
            "needs_background": "light"
          }
        },
        {
          "output_type": "display_data",
          "data": {
            "text/plain": [
              "<Figure size 432x288 with 1 Axes>"
            ],
            "image/png": "[encoded data removed]"
          },
          "metadata": {
            "needs_background": "light"
          }
        }
      ]
    },
    {
      "cell_type": "code",
      "source": [
        ""
      ],
      "metadata": {
        "id": "dSpIC1uDSEcG"
      },
      "execution_count": null,
      "outputs": []
    }
  ]
}